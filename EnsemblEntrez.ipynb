{
 "cells": [
  {
   "cell_type": "code",
   "execution_count": 61,
   "metadata": {
    "code_folding": [
     0
    ],
    "hide_input": true
   },
   "outputs": [],
   "source": [
    "# imports\n",
    "import pandas\n",
    "import pymysql\n",
    "import requests\n",
    "\n",
    "# database connection\n",
    "db = pymysql.connect(\"localhost\",\"mygene\",\"\",\"ensembl2entrez\")\n",
    "cursor = db.cursor()"
   ]
  },
  {
   "cell_type": "markdown",
   "metadata": {
    "hide_input": true
   },
   "source": [
    "## Counting gene IDs\n",
    "Table **entrez** and **ensembl** all IDs provided by NCBI and Ensembl, respectively from file ``gene_info.gz`` and ``gene_ensembl__gene__main.txt``"
   ]
  },
  {
   "cell_type": "code",
   "execution_count": 62,
   "metadata": {
    "code_folding": [
     0
    ],
    "hide_input": true,
    "scrolled": true
   },
   "outputs": [],
   "source": [
    "# querying entrez & ensembl\n",
    "cursor.execute(\"select count(*) from entrez\")\n",
    "entrez_count = cursor.fetchone()[0]\n",
    "cursor.execute(\"select count(*) from ensembl\")\n",
    "ensembl_count = cursor.fetchone()[0]"
   ]
  },
  {
   "cell_type": "markdown",
   "metadata": {
    "variables": {
     "\"{:,}\".format(ensembl_count)": "3,412,304",
     "\"{:,}\".format(entrez_count)": "23,160,331"
    }
   },
   "source": [
    "**Entrez** has ``{{\"{:,}\".format(entrez_count)}}`` gene IDs, and **Ensembl** has ``{{\"{:,}\".format(ensembl_count)}}`` gene IDs"
   ]
  },
  {
   "cell_type": "markdown",
   "metadata": {},
   "source": [
    "## Counting mappings\n",
    "Mappings have been integrated in MySQL tables **ens2ent** for mapping provided by Ensembl, and **ent2ens** for mapping provided by Entrez (see `columbo.py` script). They contain unique tuple(ncbi,ensembl):"
   ]
  },
  {
   "cell_type": "code",
   "execution_count": 63,
   "metadata": {
    "code_folding": [
     0
    ],
    "hide_input": true
   },
   "outputs": [
    {
     "name": "stdout",
     "output_type": "stream",
     "text": [
      "CREATE TABLE `ens2ent` (\n",
      "  `ensembl` varchar(255) NOT NULL,\n",
      "  `symbol` varchar(255) DEFAULT NULL,\n",
      "  `ncbi` int(11) NOT NULL,\n",
      "  UNIQUE KEY `uniq_ensembl` (`ensembl`,`ncbi`),\n",
      "  KEY `ensembl_idx` (`ensembl`),\n",
      "  KEY `symbol_idx` (`symbol`),\n",
      "  KEY `ncbi_idx` (`ncbi`)\n",
      ") ENGINE=InnoDB DEFAULT CHARSET=latin1\n",
      "\n",
      "\n",
      "CREATE TABLE `ent2ens` (\n",
      "  `ncbi` int(11) NOT NULL,\n",
      "  `symbol` varchar(255) DEFAULT NULL,\n",
      "  `ensembl` varchar(255) NOT NULL,\n",
      "  UNIQUE KEY `uniq_entrez` (`ncbi`,`ensembl`),\n",
      "  KEY `ensembl_idx` (`ensembl`),\n",
      "  KEY `symbol_idx` (`symbol`),\n",
      "  KEY `ncbi_idx` (`ncbi`)\n",
      ") ENGINE=InnoDB DEFAULT CHARSET=latin1\n"
     ]
    }
   ],
   "source": [
    "# table definitions\n",
    "cursor.execute(\"show create table ens2ent\")\n",
    "res = cursor.fetchone()\n",
    "print(res[1])\n",
    "print(\"\\n\")\n",
    "cursor.execute(\"show create table ent2ens\")\n",
    "res = cursor.fetchone()\n",
    "print(res[1])"
   ]
  },
  {
   "cell_type": "markdown",
   "metadata": {},
   "source": [
    "### Mappings provided by Ensembl"
   ]
  },
  {
   "cell_type": "code",
   "execution_count": 65,
   "metadata": {
    "hide_input": true
   },
   "outputs": [],
   "source": [
    "# file gene_ensembl__xref_entrezgene__dm.txt, unique ensembl/ncbi tuples\n",
    "cursor.execute(\"select count(*) from ens2ent\")\n",
    "ens2ent_count = cursor.fetchone()[0]\n",
    "cursor.execute(\"\"\"\n",
    "    select m.*\n",
    "    from ensembl e \n",
    "    right join ens2ent m on e.ensembl = m.ensembl \n",
    "    where e.ensembl is null\n",
    "\"\"\")\n",
    "res = list(cursor.fetchall())\n",
    "colnames = tuple([desc[0] for desc in cursor.description])\n",
    "ens2ent_mapping_not_in_main = pandas.DataFrame.from_records(res,columns=colnames)"
   ]
  },
  {
   "cell_type": "markdown",
   "metadata": {
    "hide_input": true,
    "variables": {
     "\"{:,}\".format(ens2ent_count)": "1,626,551",
     "len(ens2ent_mapping_not_in_main)": "0"
    }
   },
   "source": [
    "**Ensembl** provides ``{{\"{:,}\".format(ens2ent_count)}}`` mappings. There are ``{{len(ens2ent_mapping_not_in_main)}}`` Ensembl IDs found in mappings but not in the main file.\n",
    "\n"
   ]
  },
  {
   "cell_type": "markdown",
   "metadata": {
    "variables": {
     "ens2ent_mapping_not_in_main": "<div>\n<style scoped>\n    .dataframe tbody tr th:only-of-type {\n        vertical-align: middle;\n    }\n\n    .dataframe tbody tr th {\n        vertical-align: top;\n    }\n\n    .dataframe thead th {\n        text-align: right;\n    }\n</style>\n<table border=\"1\" class=\"dataframe\">\n  <thead>\n    <tr style=\"text-align: right;\">\n      <th></th>\n      <th>ensembl</th>\n      <th>symbol</th>\n      <th>ncbi</th>\n    </tr>\n  </thead>\n  <tbody>\n  </tbody>\n</table>\n</div>"
    }
   },
   "source": [
    "{{ens2ent_mapping_not_in_main}}"
   ]
  },
  {
   "cell_type": "markdown",
   "metadata": {},
   "source": [
    "### Mappings provided by Entrez"
   ]
  },
  {
   "cell_type": "code",
   "execution_count": 66,
   "metadata": {
    "code_folding": [],
    "hide_input": true,
    "scrolled": true
   },
   "outputs": [],
   "source": [
    "# file gene2ensembl.gz, unique ncbi/ensembl tuples\n",
    "cursor.execute(\"select count(*) from ent2ens\")\n",
    "ent2ens_count = cursor.fetchone()[0]\n",
    "cursor.execute(\"\"\"\n",
    "    select m.*\n",
    "    from entrez e \n",
    "    right join ent2ens m on e.ncbi = m.ncbi \n",
    "    where e.ncbi is null\n",
    "\"\"\")\n",
    "res = list(cursor.fetchall())\n",
    "colnames = tuple([desc[0] for desc in cursor.description])\n",
    "ent2ens_mapping_not_in_main = pandas.DataFrame.from_records(res,columns=colnames)"
   ]
  },
  {
   "cell_type": "markdown",
   "metadata": {
    "hide_input": true,
    "variables": {
     "\"{:,}\".format(ent2ens_count)": "1,561,306",
     "len(ent2ens_mapping_not_in_main)": "1"
    }
   },
   "source": [
    "**Entrez** provides ``{{\"{:,}\".format(ent2ens_count)}}`` mappings. There are ``{{len(ent2ens_mapping_not_in_main)}}`` Entrez IDs found in mappings but not in the main file."
   ]
  },
  {
   "cell_type": "markdown",
   "metadata": {
    "code_folding": [],
    "hide_input": false,
    "variables": {
     "ent2ens_mapping_not_in_main": "<div>\n<style scoped>\n    .dataframe tbody tr th:only-of-type {\n        vertical-align: middle;\n    }\n\n    .dataframe tbody tr th {\n        vertical-align: top;\n    }\n\n    .dataframe thead th {\n        text-align: right;\n    }\n</style>\n<table border=\"1\" class=\"dataframe\">\n  <thead>\n    <tr style=\"text-align: right;\">\n      <th></th>\n      <th>ncbi</th>\n      <th>symbol</th>\n      <th>ensembl</th>\n    </tr>\n  </thead>\n  <tbody>\n    <tr>\n      <th>0</th>\n      <td>284083</td>\n      <td>C17ORF47</td>\n      <td>ENSG00000181013</td>\n    </tr>\n  </tbody>\n</table>\n</div>"
    }
   },
   "source": [
    "{{ent2ens_mapping_not_in_main}}"
   ]
  },
  {
   "cell_type": "markdown",
   "metadata": {},
   "source": [
    "## When NCBI and Ensembl both agree (according to IDs)"
   ]
  },
  {
   "cell_type": "code",
   "execution_count": 67,
   "metadata": {
    "hide_input": true
   },
   "outputs": [],
   "source": [
    "\n",
    "cursor.execute(\"\"\"\n",
    "    select count(*)\n",
    "    from ent2ens\n",
    "    inner join ens2ent\n",
    "    on ent2ens.ncbi = ens2ent.ncbi and ent2ens.ensembl = ens2ent.ensembl;\n",
    "    \"\"\")\n",
    "res = cursor.fetchone()\n",
    "total_mappings = res[0]\n",
    "\n",
    "cursor.execute(\"\"\"\n",
    "    select count(distinct(ent2ens.ncbi))\n",
    "    from ent2ens\n",
    "    inner join ens2ent\n",
    "    where ent2ens.ncbi = ens2ent.ncbi and ent2ens.ensembl = ens2ent.ensembl;\n",
    "    \"\"\")\n",
    "res = cursor.fetchone()\n",
    "unique_matching_ncbi_ids = res[0]\n",
    "\n",
    "cursor.execute(\"\"\"\n",
    "    select sum(c)\n",
    "    from (\n",
    "        select count(distinct(ent2ens.ncbi)) as c\n",
    "        from ent2ens\n",
    "        inner join ens2ent\n",
    "        on ent2ens.ncbi = ens2ent.ncbi and ent2ens.ensembl = ens2ent.ensembl\n",
    "        group by ent2ens.ncbi\n",
    "        having count(*) > 1\n",
    "        order by ent2ens.ncbi)\n",
    "    t\n",
    "    \"\"\")\n",
    "res = cursor.fetchone()\n",
    "one_ncbi_to_many_ensembl = res[0]\n",
    "\n",
    "cursor.execute(\"\"\"\n",
    "    select count(distinct(ens2ent.ensembl))\n",
    "    from ent2ens\n",
    "    inner join ens2ent\n",
    "    where ent2ens.ncbi = ens2ent.ncbi and ent2ens.ensembl = ens2ent.ensembl;\n",
    "    \"\"\")\n",
    "res = cursor.fetchone()\n",
    "unique_matching_ensembl_ids = res[0]\n",
    "\n",
    "cursor.execute(\"\"\"\n",
    "    select sum(c)\n",
    "    from (\n",
    "        select count(distinct(ent2ens.ensembl)) as c\n",
    "        from ens2ent\n",
    "        inner join ent2ens\n",
    "        on ens2ent.ensembl = ent2ens.ensembl and ens2ent.ncbi = ent2ens.ncbi\n",
    "        group by ens2ent.ensembl\n",
    "        having count(*) > 1\n",
    "        order by ens2ent.ensembl)\n",
    "    t;\n",
    "    \"\"\")\n",
    "res = cursor.fetchone()\n",
    "one_ensembl_to_many_ncbi = res[0]"
   ]
  },
  {
   "cell_type": "markdown",
   "metadata": {
    "hide_input": false,
    "variables": {
     "\"{:,}\".format(one_ensembl_to_many_ncbi)": "2,520",
     "\"{:,}\".format(one_ncbi_to_many_ensembl)": "1,139",
     "\"{:,}\".format(total_mappings)": "1,317,102",
     "\"{:,}\".format(unique_matching_ensembl_ids)": "1,314,410",
     "\"{:,}\".format(unique_matching_ncbi_ids)": "1,315,892"
    }
   },
   "source": [
    "- Total mappings with **full match** between Entrez and Ensembl: ``{{\"{:,}\".format(total_mappings)}}``\n",
    "- Amongst those full matches, ``{{\"{:,}\".format(unique_matching_ncbi_ids)}}`` have **unique NCBI IDs**\n",
    "- ``{{\"{:,}\".format(one_ncbi_to_many_ensembl)}}`` are **1-NCBI-to-many-Ensembl** mappings\n",
    "- And amongst those full matches, ``{{\"{:,}\".format(unique_matching_ensembl_ids)}}`` have **unique Ensembl IDs**\n",
    "- ``{{\"{:,}\".format(one_ensembl_to_many_ncbi)}}`` are **1-Ensembl-to-many-NCBI** mappings\n"
   ]
  },
  {
   "cell_type": "markdown",
   "metadata": {},
   "source": [
    "### Unique mapping example (1-NCBI-to-1-Ensembl)\n",
    "First 50 unique mappings"
   ]
  },
  {
   "cell_type": "code",
   "execution_count": 68,
   "metadata": {
    "code_folding": [
     0
    ],
    "hide_input": true
   },
   "outputs": [],
   "source": [
    "cursor.execute(\"\"\"\n",
    "    select entrez.ncbi, entrez.ensembl, count(*)\n",
    "    from ent2ens entrez\n",
    "    inner join ens2ent ensembl\n",
    "    on entrez.ncbi = ensembl.ncbi and entrez.ensembl = ensembl.ensembl\n",
    "    group by entrez.ncbi, entrez.ensembl\n",
    "    having count(*) = 1\n",
    "    limit 50\"\"\")\n",
    "res = list(cursor.fetchall())\n",
    "colnames = tuple([desc[0] for desc in cursor.description])"
   ]
  },
  {
   "cell_type": "markdown",
   "metadata": {
    "variables": {
     "pandas.DataFrame.from_records(res,columns=colnames)": "<div>\n<style scoped>\n    .dataframe tbody tr th:only-of-type {\n        vertical-align: middle;\n    }\n\n    .dataframe tbody tr th {\n        vertical-align: top;\n    }\n\n    .dataframe thead th {\n        text-align: right;\n    }\n</style>\n<table border=\"1\" class=\"dataframe\">\n  <thead>\n    <tr style=\"text-align: right;\">\n      <th></th>\n      <th>ncbi</th>\n      <th>ensembl</th>\n      <th>count(*)</th>\n    </tr>\n  </thead>\n  <tbody>\n    <tr>\n      <th>0</th>\n      <td>1</td>\n      <td>ENSG00000121410</td>\n      <td>1</td>\n    </tr>\n    <tr>\n      <th>1</th>\n      <td>2</td>\n      <td>ENSG00000175899</td>\n      <td>1</td>\n    </tr>\n    <tr>\n      <th>2</th>\n      <td>3</td>\n      <td>ENSG00000256069</td>\n      <td>1</td>\n    </tr>\n    <tr>\n      <th>3</th>\n      <td>9</td>\n      <td>ENSG00000171428</td>\n      <td>1</td>\n    </tr>\n    <tr>\n      <th>4</th>\n      <td>10</td>\n      <td>ENSG00000156006</td>\n      <td>1</td>\n    </tr>\n    <tr>\n      <th>5</th>\n      <td>12</td>\n      <td>ENSG00000196136</td>\n      <td>1</td>\n    </tr>\n    <tr>\n      <th>6</th>\n      <td>13</td>\n      <td>ENSG00000114771</td>\n      <td>1</td>\n    </tr>\n    <tr>\n      <th>7</th>\n      <td>14</td>\n      <td>ENSG00000127837</td>\n      <td>1</td>\n    </tr>\n    <tr>\n      <th>8</th>\n      <td>15</td>\n      <td>ENSG00000129673</td>\n      <td>1</td>\n    </tr>\n    <tr>\n      <th>9</th>\n      <td>16</td>\n      <td>ENSG00000090861</td>\n      <td>1</td>\n    </tr>\n    <tr>\n      <th>10</th>\n      <td>18</td>\n      <td>ENSG00000183044</td>\n      <td>1</td>\n    </tr>\n    <tr>\n      <th>11</th>\n      <td>19</td>\n      <td>ENSG00000165029</td>\n      <td>1</td>\n    </tr>\n    <tr>\n      <th>12</th>\n      <td>20</td>\n      <td>ENSG00000107331</td>\n      <td>1</td>\n    </tr>\n    <tr>\n      <th>13</th>\n      <td>21</td>\n      <td>ENSG00000167972</td>\n      <td>1</td>\n    </tr>\n    <tr>\n      <th>14</th>\n      <td>22</td>\n      <td>ENSG00000131269</td>\n      <td>1</td>\n    </tr>\n    <tr>\n      <th>15</th>\n      <td>23</td>\n      <td>ENSG00000204574</td>\n      <td>1</td>\n    </tr>\n    <tr>\n      <th>16</th>\n      <td>24</td>\n      <td>ENSG00000198691</td>\n      <td>1</td>\n    </tr>\n    <tr>\n      <th>17</th>\n      <td>25</td>\n      <td>ENSG00000097007</td>\n      <td>1</td>\n    </tr>\n    <tr>\n      <th>18</th>\n      <td>26</td>\n      <td>ENSG00000002726</td>\n      <td>1</td>\n    </tr>\n    <tr>\n      <th>19</th>\n      <td>27</td>\n      <td>ENSG00000143322</td>\n      <td>1</td>\n    </tr>\n    <tr>\n      <th>20</th>\n      <td>28</td>\n      <td>ENSG00000175164</td>\n      <td>1</td>\n    </tr>\n    <tr>\n      <th>21</th>\n      <td>29</td>\n      <td>ENSG00000159842</td>\n      <td>1</td>\n    </tr>\n    <tr>\n      <th>22</th>\n      <td>30</td>\n      <td>ENSG00000060971</td>\n      <td>1</td>\n    </tr>\n    <tr>\n      <th>23</th>\n      <td>31</td>\n      <td>ENSG00000278540</td>\n      <td>1</td>\n    </tr>\n    <tr>\n      <th>24</th>\n      <td>32</td>\n      <td>ENSG00000076555</td>\n      <td>1</td>\n    </tr>\n    <tr>\n      <th>25</th>\n      <td>33</td>\n      <td>ENSG00000115361</td>\n      <td>1</td>\n    </tr>\n    <tr>\n      <th>26</th>\n      <td>34</td>\n      <td>ENSG00000117054</td>\n      <td>1</td>\n    </tr>\n    <tr>\n      <th>27</th>\n      <td>35</td>\n      <td>ENSG00000122971</td>\n      <td>1</td>\n    </tr>\n    <tr>\n      <th>28</th>\n      <td>36</td>\n      <td>ENSG00000196177</td>\n      <td>1</td>\n    </tr>\n    <tr>\n      <th>29</th>\n      <td>37</td>\n      <td>ENSG00000072778</td>\n      <td>1</td>\n    </tr>\n    <tr>\n      <th>30</th>\n      <td>38</td>\n      <td>ENSG00000075239</td>\n      <td>1</td>\n    </tr>\n    <tr>\n      <th>31</th>\n      <td>39</td>\n      <td>ENSG00000120437</td>\n      <td>1</td>\n    </tr>\n    <tr>\n      <th>32</th>\n      <td>40</td>\n      <td>ENSG00000108684</td>\n      <td>1</td>\n    </tr>\n    <tr>\n      <th>33</th>\n      <td>41</td>\n      <td>ENSG00000110881</td>\n      <td>1</td>\n    </tr>\n    <tr>\n      <th>34</th>\n      <td>43</td>\n      <td>ENSG00000087085</td>\n      <td>1</td>\n    </tr>\n    <tr>\n      <th>35</th>\n      <td>47</td>\n      <td>ENSG00000131473</td>\n      <td>1</td>\n    </tr>\n    <tr>\n      <th>36</th>\n      <td>48</td>\n      <td>ENSG00000122729</td>\n      <td>1</td>\n    </tr>\n    <tr>\n      <th>37</th>\n      <td>49</td>\n      <td>ENSG00000100312</td>\n      <td>1</td>\n    </tr>\n    <tr>\n      <th>38</th>\n      <td>50</td>\n      <td>ENSG00000100412</td>\n      <td>1</td>\n    </tr>\n    <tr>\n      <th>39</th>\n      <td>51</td>\n      <td>ENSG00000161533</td>\n      <td>1</td>\n    </tr>\n    <tr>\n      <th>40</th>\n      <td>52</td>\n      <td>ENSG00000143727</td>\n      <td>1</td>\n    </tr>\n    <tr>\n      <th>41</th>\n      <td>53</td>\n      <td>ENSG00000134575</td>\n      <td>1</td>\n    </tr>\n    <tr>\n      <th>42</th>\n      <td>54</td>\n      <td>ENSG00000102575</td>\n      <td>1</td>\n    </tr>\n    <tr>\n      <th>43</th>\n      <td>55</td>\n      <td>ENSG00000014257</td>\n      <td>1</td>\n    </tr>\n    <tr>\n      <th>44</th>\n      <td>56</td>\n      <td>ENSG00000134940</td>\n      <td>1</td>\n    </tr>\n    <tr>\n      <th>45</th>\n      <td>58</td>\n      <td>ENSG00000143632</td>\n      <td>1</td>\n    </tr>\n    <tr>\n      <th>46</th>\n      <td>59</td>\n      <td>ENSG00000107796</td>\n      <td>1</td>\n    </tr>\n    <tr>\n      <th>47</th>\n      <td>60</td>\n      <td>ENSG00000075624</td>\n      <td>1</td>\n    </tr>\n    <tr>\n      <th>48</th>\n      <td>70</td>\n      <td>ENSG00000159251</td>\n      <td>1</td>\n    </tr>\n    <tr>\n      <th>49</th>\n      <td>71</td>\n      <td>ENSG00000184009</td>\n      <td>1</td>\n    </tr>\n  </tbody>\n</table>\n</div>"
    }
   },
   "source": [
    "{{pandas.DataFrame.from_records(res,columns=colnames)}}"
   ]
  },
  {
   "cell_type": "markdown",
   "metadata": {},
   "source": [
    "### Multiple mappings 1-NCBI-to-many-Ensembl"
   ]
  },
  {
   "cell_type": "markdown",
   "metadata": {},
   "source": [
    "**Enumerate**"
   ]
  },
  {
   "cell_type": "code",
   "execution_count": 69,
   "metadata": {
    "code_folding": [],
    "hide_input": true
   },
   "outputs": [],
   "source": [
    "cursor.execute(\"\"\"\n",
    "    select entrez.ncbi,count(*)\n",
    "    from ent2ens entrez\n",
    "    inner join ens2ent ensembl\n",
    "    on entrez.ncbi = ensembl.ncbi and entrez.ensembl = ensembl.ensembl\n",
    "    group by entrez.ncbi\n",
    "    having count(*) > 1\n",
    "    order by count(*) desc;\n",
    "    \"\"\")\n",
    "res = list(cursor.fetchall())\n",
    "colnames = tuple([desc[0] for desc in cursor.description])"
   ]
  },
  {
   "cell_type": "markdown",
   "metadata": {
    "variables": {
     "pandas.DataFrame.from_records(res,columns=colnames)": "<div>\n<style scoped>\n    .dataframe tbody tr th:only-of-type {\n        vertical-align: middle;\n    }\n\n    .dataframe tbody tr th {\n        vertical-align: top;\n    }\n\n    .dataframe thead th {\n        text-align: right;\n    }\n</style>\n<table border=\"1\" class=\"dataframe\">\n  <thead>\n    <tr style=\"text-align: right;\">\n      <th></th>\n      <th>ncbi</th>\n      <th>count(*)</th>\n    </tr>\n  </thead>\n  <tbody>\n    <tr>\n      <th>0</th>\n      <td>110284891</td>\n      <td>28</td>\n    </tr>\n    <tr>\n      <th>1</th>\n      <td>110333163</td>\n      <td>27</td>\n    </tr>\n    <tr>\n      <th>2</th>\n      <td>110283898</td>\n      <td>4</td>\n    </tr>\n    <tr>\n      <th>3</th>\n      <td>110332054</td>\n      <td>4</td>\n    </tr>\n    <tr>\n      <th>4</th>\n      <td>110294338</td>\n      <td>3</td>\n    </tr>\n    <tr>\n      <th>5</th>\n      <td>110307616</td>\n      <td>3</td>\n    </tr>\n    <tr>\n      <th>6</th>\n      <td>110337525</td>\n      <td>3</td>\n    </tr>\n    <tr>\n      <th>7</th>\n      <td>110338419</td>\n      <td>3</td>\n    </tr>\n    <tr>\n      <th>8</th>\n      <td>111611862</td>\n      <td>3</td>\n    </tr>\n    <tr>\n      <th>9</th>\n      <td>113012909</td>\n      <td>3</td>\n    </tr>\n    <tr>\n      <th>10</th>\n      <td>393541</td>\n      <td>3</td>\n    </tr>\n    <tr>\n      <th>11</th>\n      <td>489848</td>\n      <td>3</td>\n    </tr>\n    <tr>\n      <th>12</th>\n      <td>782061</td>\n      <td>3</td>\n    </tr>\n    <tr>\n      <th>13</th>\n      <td>100586923</td>\n      <td>3</td>\n    </tr>\n    <tr>\n      <th>14</th>\n      <td>102010984</td>\n      <td>3</td>\n    </tr>\n    <tr>\n      <th>15</th>\n      <td>102029816</td>\n      <td>3</td>\n    </tr>\n    <tr>\n      <th>16</th>\n      <td>105744503</td>\n      <td>3</td>\n    </tr>\n    <tr>\n      <th>17</th>\n      <td>105864508</td>\n      <td>3</td>\n    </tr>\n    <tr>\n      <th>18</th>\n      <td>105939456</td>\n      <td>3</td>\n    </tr>\n    <tr>\n      <th>19</th>\n      <td>108286248</td>\n      <td>3</td>\n    </tr>\n    <tr>\n      <th>20</th>\n      <td>1124</td>\n      <td>2</td>\n    </tr>\n    <tr>\n      <th>21</th>\n      <td>3233</td>\n      <td>2</td>\n    </tr>\n    <tr>\n      <th>22</th>\n      <td>5888</td>\n      <td>2</td>\n    </tr>\n    <tr>\n      <th>23</th>\n      <td>6314</td>\n      <td>2</td>\n    </tr>\n    <tr>\n      <th>24</th>\n      <td>6648</td>\n      <td>2</td>\n    </tr>\n    <tr>\n      <th>25</th>\n      <td>6905</td>\n      <td>2</td>\n    </tr>\n    <tr>\n      <th>26</th>\n      <td>8490</td>\n      <td>2</td>\n    </tr>\n    <tr>\n      <th>27</th>\n      <td>8622</td>\n      <td>2</td>\n    </tr>\n    <tr>\n      <th>28</th>\n      <td>9782</td>\n      <td>2</td>\n    </tr>\n    <tr>\n      <th>29</th>\n      <td>9997</td>\n      <td>2</td>\n    </tr>\n    <tr>\n      <th>...</th>\n      <td>...</td>\n      <td>...</td>\n    </tr>\n    <tr>\n      <th>1109</th>\n      <td>113031429</td>\n      <td>2</td>\n    </tr>\n    <tr>\n      <th>1110</th>\n      <td>113031648</td>\n      <td>2</td>\n    </tr>\n    <tr>\n      <th>1111</th>\n      <td>113031713</td>\n      <td>2</td>\n    </tr>\n    <tr>\n      <th>1112</th>\n      <td>113037517</td>\n      <td>2</td>\n    </tr>\n    <tr>\n      <th>1113</th>\n      <td>113123387</td>\n      <td>2</td>\n    </tr>\n    <tr>\n      <th>1114</th>\n      <td>113123410</td>\n      <td>2</td>\n    </tr>\n    <tr>\n      <th>1115</th>\n      <td>113124422</td>\n      <td>2</td>\n    </tr>\n    <tr>\n      <th>1116</th>\n      <td>113127161</td>\n      <td>2</td>\n    </tr>\n    <tr>\n      <th>1117</th>\n      <td>113129061</td>\n      <td>2</td>\n    </tr>\n    <tr>\n      <th>1118</th>\n      <td>113135244</td>\n      <td>2</td>\n    </tr>\n    <tr>\n      <th>1119</th>\n      <td>113135789</td>\n      <td>2</td>\n    </tr>\n    <tr>\n      <th>1120</th>\n      <td>113136196</td>\n      <td>2</td>\n    </tr>\n    <tr>\n      <th>1121</th>\n      <td>113136286</td>\n      <td>2</td>\n    </tr>\n    <tr>\n      <th>1122</th>\n      <td>113140700</td>\n      <td>2</td>\n    </tr>\n    <tr>\n      <th>1123</th>\n      <td>113140966</td>\n      <td>2</td>\n    </tr>\n    <tr>\n      <th>1124</th>\n      <td>113141601</td>\n      <td>2</td>\n    </tr>\n    <tr>\n      <th>1125</th>\n      <td>113148302</td>\n      <td>2</td>\n    </tr>\n    <tr>\n      <th>1126</th>\n      <td>113150582</td>\n      <td>2</td>\n    </tr>\n    <tr>\n      <th>1127</th>\n      <td>113152400</td>\n      <td>2</td>\n    </tr>\n    <tr>\n      <th>1128</th>\n      <td>113154246</td>\n      <td>2</td>\n    </tr>\n    <tr>\n      <th>1129</th>\n      <td>113156264</td>\n      <td>2</td>\n    </tr>\n    <tr>\n      <th>1130</th>\n      <td>113157326</td>\n      <td>2</td>\n    </tr>\n    <tr>\n      <th>1131</th>\n      <td>113157443</td>\n      <td>2</td>\n    </tr>\n    <tr>\n      <th>1132</th>\n      <td>113159686</td>\n      <td>2</td>\n    </tr>\n    <tr>\n      <th>1133</th>\n      <td>113160582</td>\n      <td>2</td>\n    </tr>\n    <tr>\n      <th>1134</th>\n      <td>113163461</td>\n      <td>2</td>\n    </tr>\n    <tr>\n      <th>1135</th>\n      <td>113164466</td>\n      <td>2</td>\n    </tr>\n    <tr>\n      <th>1136</th>\n      <td>113166307</td>\n      <td>2</td>\n    </tr>\n    <tr>\n      <th>1137</th>\n      <td>113168816</td>\n      <td>2</td>\n    </tr>\n    <tr>\n      <th>1138</th>\n      <td>113169532</td>\n      <td>2</td>\n    </tr>\n  </tbody>\n</table>\n<p>1139 rows × 2 columns</p>\n</div>"
    }
   },
   "source": [
    "{{pandas.DataFrame.from_records(res,columns=colnames)}}"
   ]
  },
  {
   "cell_type": "markdown",
   "metadata": {
    "hide_input": false
   },
   "source": [
    "**Some multiple mapping examples: 1-NCBI-to-many(3)-Ensembl**"
   ]
  },
  {
   "cell_type": "code",
   "execution_count": 70,
   "metadata": {
    "hide_input": true
   },
   "outputs": [],
   "source": [
    "cursor.execute(\"\"\"\n",
    "    select ncbi,ensembl\n",
    "    from ent2ens\n",
    "    where ncbi in (\n",
    "        select entrez.ncbi\n",
    "        from ent2ens entrez\n",
    "        inner join ens2ent ensembl\n",
    "        on entrez.ncbi = ensembl.ncbi and entrez.ensembl = ensembl.ensembl\n",
    "        group by entrez.ncbi\n",
    "        having count(*) = 3)\n",
    "    order by ncbi\n",
    "    \"\"\")\n",
    "res = list(cursor.fetchall())\n",
    "colnames = tuple([desc[0] for desc in cursor.description])"
   ]
  },
  {
   "cell_type": "markdown",
   "metadata": {
    "variables": {
     "pandas.DataFrame.from_records(res,columns=colnames)": "<div>\n<style scoped>\n    .dataframe tbody tr th:only-of-type {\n        vertical-align: middle;\n    }\n\n    .dataframe tbody tr th {\n        vertical-align: top;\n    }\n\n    .dataframe thead th {\n        text-align: right;\n    }\n</style>\n<table border=\"1\" class=\"dataframe\">\n  <thead>\n    <tr style=\"text-align: right;\">\n      <th></th>\n      <th>ncbi</th>\n      <th>ensembl</th>\n    </tr>\n  </thead>\n  <tbody>\n    <tr>\n      <th>0</th>\n      <td>393541</td>\n      <td>ENSDARG00000033501</td>\n    </tr>\n    <tr>\n      <th>1</th>\n      <td>393541</td>\n      <td>ENSDARG00000075666</td>\n    </tr>\n    <tr>\n      <th>2</th>\n      <td>393541</td>\n      <td>ENSDARG00000105498</td>\n    </tr>\n    <tr>\n      <th>3</th>\n      <td>489848</td>\n      <td>ENSCAFG00000018472</td>\n    </tr>\n    <tr>\n      <th>4</th>\n      <td>489848</td>\n      <td>ENSCAFG00000028916</td>\n    </tr>\n    <tr>\n      <th>5</th>\n      <td>489848</td>\n      <td>ENSCAFG00000031298</td>\n    </tr>\n    <tr>\n      <th>6</th>\n      <td>782061</td>\n      <td>ENSBTAG00000037509</td>\n    </tr>\n    <tr>\n      <th>7</th>\n      <td>782061</td>\n      <td>ENSBTAG00000039356</td>\n    </tr>\n    <tr>\n      <th>8</th>\n      <td>782061</td>\n      <td>ENSBTAG00000039722</td>\n    </tr>\n    <tr>\n      <th>9</th>\n      <td>100586923</td>\n      <td>ENSNLEG00000010558</td>\n    </tr>\n    <tr>\n      <th>10</th>\n      <td>100586923</td>\n      <td>ENSNLEG00000027655</td>\n    </tr>\n    <tr>\n      <th>11</th>\n      <td>100586923</td>\n      <td>ENSNLEG00000032447</td>\n    </tr>\n    <tr>\n      <th>12</th>\n      <td>102010984</td>\n      <td>ENSCLAG00000008538</td>\n    </tr>\n    <tr>\n      <th>13</th>\n      <td>102010984</td>\n      <td>ENSCLAG00000009353</td>\n    </tr>\n    <tr>\n      <th>14</th>\n      <td>102010984</td>\n      <td>ENSCLAG00000009671</td>\n    </tr>\n    <tr>\n      <th>15</th>\n      <td>102029816</td>\n      <td>ENSCLAG00000013658</td>\n    </tr>\n    <tr>\n      <th>16</th>\n      <td>102029816</td>\n      <td>ENSCLAG00000015341</td>\n    </tr>\n    <tr>\n      <th>17</th>\n      <td>102029816</td>\n      <td>ENSCLAG00000015425</td>\n    </tr>\n    <tr>\n      <th>18</th>\n      <td>105744503</td>\n      <td>ENSDNOG00000000289</td>\n    </tr>\n    <tr>\n      <th>19</th>\n      <td>105744503</td>\n      <td>ENSDNOG00000017898</td>\n    </tr>\n    <tr>\n      <th>20</th>\n      <td>105744503</td>\n      <td>ENSDNOG00000034891</td>\n    </tr>\n    <tr>\n      <th>21</th>\n      <td>105864508</td>\n      <td>ENSMICG00000001210</td>\n    </tr>\n    <tr>\n      <th>22</th>\n      <td>105864508</td>\n      <td>ENSMICG00000035523</td>\n    </tr>\n    <tr>\n      <th>23</th>\n      <td>105864508</td>\n      <td>ENSMICG00000037274</td>\n    </tr>\n    <tr>\n      <th>24</th>\n      <td>105939456</td>\n      <td>ENSFHEG00000013586</td>\n    </tr>\n    <tr>\n      <th>25</th>\n      <td>105939456</td>\n      <td>ENSFHEG00000013644</td>\n    </tr>\n    <tr>\n      <th>26</th>\n      <td>105939456</td>\n      <td>ENSFHEG00000013803</td>\n    </tr>\n    <tr>\n      <th>27</th>\n      <td>108286248</td>\n      <td>ENSCCAG00000023342</td>\n    </tr>\n    <tr>\n      <th>28</th>\n      <td>108286248</td>\n      <td>ENSCCAG00000025055</td>\n    </tr>\n    <tr>\n      <th>29</th>\n      <td>108286248</td>\n      <td>ENSCCAG00000037668</td>\n    </tr>\n    <tr>\n      <th>30</th>\n      <td>110294338</td>\n      <td>MGP_CAROLIEiJ_G0027352</td>\n    </tr>\n    <tr>\n      <th>31</th>\n      <td>110294338</td>\n      <td>MGP_CAROLIEiJ_G0027353</td>\n    </tr>\n    <tr>\n      <th>32</th>\n      <td>110294338</td>\n      <td>MGP_CAROLIEiJ_G0027354</td>\n    </tr>\n    <tr>\n      <th>33</th>\n      <td>110307616</td>\n      <td>MGP_CAROLIEiJ_G0018618</td>\n    </tr>\n    <tr>\n      <th>34</th>\n      <td>110307616</td>\n      <td>MGP_CAROLIEiJ_G0018619</td>\n    </tr>\n    <tr>\n      <th>35</th>\n      <td>110307616</td>\n      <td>MGP_CAROLIEiJ_G0018621</td>\n    </tr>\n    <tr>\n      <th>36</th>\n      <td>110337525</td>\n      <td>MGP_PahariEiJ_G0023236</td>\n    </tr>\n    <tr>\n      <th>37</th>\n      <td>110337525</td>\n      <td>MGP_PahariEiJ_G0023237</td>\n    </tr>\n    <tr>\n      <th>38</th>\n      <td>110337525</td>\n      <td>MGP_PahariEiJ_G0023238</td>\n    </tr>\n    <tr>\n      <th>39</th>\n      <td>110338419</td>\n      <td>MGP_PahariEiJ_G0012721</td>\n    </tr>\n    <tr>\n      <th>40</th>\n      <td>110338419</td>\n      <td>MGP_PahariEiJ_G0012722</td>\n    </tr>\n    <tr>\n      <th>41</th>\n      <td>110338419</td>\n      <td>MGP_PahariEiJ_G0012726</td>\n    </tr>\n    <tr>\n      <th>42</th>\n      <td>111611862</td>\n      <td>ENSXMAG00000012213</td>\n    </tr>\n    <tr>\n      <th>43</th>\n      <td>111611862</td>\n      <td>ENSXMAG00000021967</td>\n    </tr>\n    <tr>\n      <th>44</th>\n      <td>111611862</td>\n      <td>ENSXMAG00000026376</td>\n    </tr>\n    <tr>\n      <th>45</th>\n      <td>113012909</td>\n      <td>ENSACLG00000016537</td>\n    </tr>\n    <tr>\n      <th>46</th>\n      <td>113012909</td>\n      <td>ENSACLG00000016563</td>\n    </tr>\n    <tr>\n      <th>47</th>\n      <td>113012909</td>\n      <td>ENSACLG00000016578</td>\n    </tr>\n  </tbody>\n</table>\n</div>"
    }
   },
   "source": [
    "{{pandas.DataFrame.from_records(res,columns=colnames)}}"
   ]
  },
  {
   "cell_type": "markdown",
   "metadata": {},
   "source": [
    "### Multiple mappings 1-Ensembl-to-many-NCBI"
   ]
  },
  {
   "cell_type": "markdown",
   "metadata": {},
   "source": [
    "**Enumerate**"
   ]
  },
  {
   "cell_type": "code",
   "execution_count": 71,
   "metadata": {
    "code_folding": [],
    "hide_input": true
   },
   "outputs": [],
   "source": [
    "cursor.execute(\"\"\"\n",
    "    select entrez.ensembl,count(*)\n",
    "    from ent2ens entrez\n",
    "    inner join ens2ent ensembl\n",
    "    on entrez.ncbi = ensembl.ncbi and entrez.ensembl = ensembl.ensembl\n",
    "    group by entrez.ensembl\n",
    "    having count(*) > 1\n",
    "    order by count(*) desc;\n",
    "    \"\"\")\n",
    "res = list(cursor.fetchall())\n",
    "colnames = tuple([desc[0] for desc in cursor.description])"
   ]
  },
  {
   "cell_type": "markdown",
   "metadata": {
    "variables": {
     "pandas.DataFrame.from_records(res,columns=colnames)": "<div>\n<style scoped>\n    .dataframe tbody tr th:only-of-type {\n        vertical-align: middle;\n    }\n\n    .dataframe tbody tr th {\n        vertical-align: top;\n    }\n\n    .dataframe thead th {\n        text-align: right;\n    }\n</style>\n<table border=\"1\" class=\"dataframe\">\n  <thead>\n    <tr style=\"text-align: right;\">\n      <th></th>\n      <th>ensembl</th>\n      <th>count(*)</th>\n    </tr>\n  </thead>\n  <tbody>\n    <tr>\n      <th>0</th>\n      <td>ENSPTRG00000017346</td>\n      <td>9</td>\n    </tr>\n    <tr>\n      <th>1</th>\n      <td>ENSPTRG00000017328</td>\n      <td>8</td>\n    </tr>\n    <tr>\n      <th>2</th>\n      <td>ENSRNOG00000018740</td>\n      <td>8</td>\n    </tr>\n    <tr>\n      <th>3</th>\n      <td>ENSDARG00000006220</td>\n      <td>7</td>\n    </tr>\n    <tr>\n      <th>4</th>\n      <td>ENSPANG00000018059</td>\n      <td>6</td>\n    </tr>\n    <tr>\n      <th>5</th>\n      <td>ENSPFOG00000018776</td>\n      <td>6</td>\n    </tr>\n    <tr>\n      <th>6</th>\n      <td>ENSCATG00000045127</td>\n      <td>4</td>\n    </tr>\n    <tr>\n      <th>7</th>\n      <td>ENSDARG00000051940</td>\n      <td>4</td>\n    </tr>\n    <tr>\n      <th>8</th>\n      <td>ENSDARG00000098788</td>\n      <td>4</td>\n    </tr>\n    <tr>\n      <th>9</th>\n      <td>ENSELUG00000014755</td>\n      <td>4</td>\n    </tr>\n    <tr>\n      <th>10</th>\n      <td>ENSMMUG00000013098</td>\n      <td>4</td>\n    </tr>\n    <tr>\n      <th>11</th>\n      <td>ENSMNEG00000037930</td>\n      <td>4</td>\n    </tr>\n    <tr>\n      <th>12</th>\n      <td>ENSPANG00000004244</td>\n      <td>4</td>\n    </tr>\n    <tr>\n      <th>13</th>\n      <td>ENSPANG00000021557</td>\n      <td>4</td>\n    </tr>\n    <tr>\n      <th>14</th>\n      <td>ENSRROG00000040325</td>\n      <td>4</td>\n    </tr>\n    <tr>\n      <th>15</th>\n      <td>ENSRROG00000044471</td>\n      <td>4</td>\n    </tr>\n    <tr>\n      <th>16</th>\n      <td>ENSSPAG00000009043</td>\n      <td>4</td>\n    </tr>\n    <tr>\n      <th>17</th>\n      <td>ENSSSCG00000003825</td>\n      <td>4</td>\n    </tr>\n    <tr>\n      <th>18</th>\n      <td>ENSACLG00000022864</td>\n      <td>3</td>\n    </tr>\n    <tr>\n      <th>19</th>\n      <td>ENSANAG00000022009</td>\n      <td>3</td>\n    </tr>\n    <tr>\n      <th>20</th>\n      <td>ENSANAG00000022359</td>\n      <td>3</td>\n    </tr>\n    <tr>\n      <th>21</th>\n      <td>ENSANAG00000025766</td>\n      <td>3</td>\n    </tr>\n    <tr>\n      <th>22</th>\n      <td>ENSANAG00000027651</td>\n      <td>3</td>\n    </tr>\n    <tr>\n      <th>23</th>\n      <td>ENSANAG00000028664</td>\n      <td>3</td>\n    </tr>\n    <tr>\n      <th>24</th>\n      <td>ENSANAG00000031923</td>\n      <td>3</td>\n    </tr>\n    <tr>\n      <th>25</th>\n      <td>ENSANAG00000032272</td>\n      <td>3</td>\n    </tr>\n    <tr>\n      <th>26</th>\n      <td>ENSBTAG00000017349</td>\n      <td>3</td>\n    </tr>\n    <tr>\n      <th>27</th>\n      <td>ENSCAFG00000002372</td>\n      <td>3</td>\n    </tr>\n    <tr>\n      <th>28</th>\n      <td>ENSCAFG00000004779</td>\n      <td>3</td>\n    </tr>\n    <tr>\n      <th>29</th>\n      <td>ENSCAFG00000007233</td>\n      <td>3</td>\n    </tr>\n    <tr>\n      <th>...</th>\n      <td>...</td>\n      <td>...</td>\n    </tr>\n    <tr>\n      <th>2490</th>\n      <td>MGP_CAROLIEiJ_G0031132</td>\n      <td>2</td>\n    </tr>\n    <tr>\n      <th>2491</th>\n      <td>MGP_CAROLIEiJ_G0031137</td>\n      <td>2</td>\n    </tr>\n    <tr>\n      <th>2492</th>\n      <td>MGP_CAROLIEiJ_G0031141</td>\n      <td>2</td>\n    </tr>\n    <tr>\n      <th>2493</th>\n      <td>MGP_CAROLIEiJ_G0031524</td>\n      <td>2</td>\n    </tr>\n    <tr>\n      <th>2494</th>\n      <td>MGP_PahariEiJ_G0012683</td>\n      <td>2</td>\n    </tr>\n    <tr>\n      <th>2495</th>\n      <td>MGP_PahariEiJ_G0012901</td>\n      <td>2</td>\n    </tr>\n    <tr>\n      <th>2496</th>\n      <td>MGP_PahariEiJ_G0014146</td>\n      <td>2</td>\n    </tr>\n    <tr>\n      <th>2497</th>\n      <td>MGP_PahariEiJ_G0014147</td>\n      <td>2</td>\n    </tr>\n    <tr>\n      <th>2498</th>\n      <td>MGP_PahariEiJ_G0014551</td>\n      <td>2</td>\n    </tr>\n    <tr>\n      <th>2499</th>\n      <td>MGP_PahariEiJ_G0015917</td>\n      <td>2</td>\n    </tr>\n    <tr>\n      <th>2500</th>\n      <td>MGP_PahariEiJ_G0019948</td>\n      <td>2</td>\n    </tr>\n    <tr>\n      <th>2501</th>\n      <td>MGP_PahariEiJ_G0019957</td>\n      <td>2</td>\n    </tr>\n    <tr>\n      <th>2502</th>\n      <td>MGP_PahariEiJ_G0019998</td>\n      <td>2</td>\n    </tr>\n    <tr>\n      <th>2503</th>\n      <td>MGP_PahariEiJ_G0020003</td>\n      <td>2</td>\n    </tr>\n    <tr>\n      <th>2504</th>\n      <td>MGP_PahariEiJ_G0021556</td>\n      <td>2</td>\n    </tr>\n    <tr>\n      <th>2505</th>\n      <td>MGP_PahariEiJ_G0021597</td>\n      <td>2</td>\n    </tr>\n    <tr>\n      <th>2506</th>\n      <td>MGP_PahariEiJ_G0021606</td>\n      <td>2</td>\n    </tr>\n    <tr>\n      <th>2507</th>\n      <td>MGP_PahariEiJ_G0023124</td>\n      <td>2</td>\n    </tr>\n    <tr>\n      <th>2508</th>\n      <td>MGP_PahariEiJ_G0023414</td>\n      <td>2</td>\n    </tr>\n    <tr>\n      <th>2509</th>\n      <td>MGP_PahariEiJ_G0023493</td>\n      <td>2</td>\n    </tr>\n    <tr>\n      <th>2510</th>\n      <td>MGP_PahariEiJ_G0024600</td>\n      <td>2</td>\n    </tr>\n    <tr>\n      <th>2511</th>\n      <td>MGP_PahariEiJ_G0026198</td>\n      <td>2</td>\n    </tr>\n    <tr>\n      <th>2512</th>\n      <td>MGP_PahariEiJ_G0026667</td>\n      <td>2</td>\n    </tr>\n    <tr>\n      <th>2513</th>\n      <td>MGP_PahariEiJ_G0027285</td>\n      <td>2</td>\n    </tr>\n    <tr>\n      <th>2514</th>\n      <td>MGP_PahariEiJ_G0027967</td>\n      <td>2</td>\n    </tr>\n    <tr>\n      <th>2515</th>\n      <td>MGP_PahariEiJ_G0028654</td>\n      <td>2</td>\n    </tr>\n    <tr>\n      <th>2516</th>\n      <td>MGP_PahariEiJ_G0028727</td>\n      <td>2</td>\n    </tr>\n    <tr>\n      <th>2517</th>\n      <td>MGP_PahariEiJ_G0030021</td>\n      <td>2</td>\n    </tr>\n    <tr>\n      <th>2518</th>\n      <td>MGP_PahariEiJ_G0030813</td>\n      <td>2</td>\n    </tr>\n    <tr>\n      <th>2519</th>\n      <td>MGP_PahariEiJ_G0032022</td>\n      <td>2</td>\n    </tr>\n  </tbody>\n</table>\n<p>2520 rows × 2 columns</p>\n</div>"
    }
   },
   "source": [
    "{{pandas.DataFrame.from_records(res,columns=colnames)}}"
   ]
  },
  {
   "cell_type": "markdown",
   "metadata": {},
   "source": [
    "**Some multiple mapping examples: 1-Ensembl-to-many(3)-NCBI**"
   ]
  },
  {
   "cell_type": "code",
   "execution_count": 72,
   "metadata": {
    "code_folding": [],
    "hide_input": true
   },
   "outputs": [],
   "source": [
    "cursor.execute(\"\"\"\n",
    "    select ensembl,ncbi\n",
    "    from ens2ent\n",
    "    where ensembl in (\n",
    "        select entrez.ensembl\n",
    "        from ent2ens entrez\n",
    "        inner join ens2ent ensembl\n",
    "        on entrez.ncbi = ensembl.ncbi and entrez.ensembl = ensembl.ensembl\n",
    "        group by entrez.ensembl\n",
    "        having count(*) = 3)\n",
    "    order by ensembl\n",
    "    \"\"\")\n",
    "res = list(cursor.fetchall())\n",
    "colnames = tuple([desc[0] for desc in cursor.description])"
   ]
  },
  {
   "cell_type": "markdown",
   "metadata": {
    "variables": {
     "pandas.DataFrame.from_records(res,columns=colnames)": "<div>\n<style scoped>\n    .dataframe tbody tr th:only-of-type {\n        vertical-align: middle;\n    }\n\n    .dataframe tbody tr th {\n        vertical-align: top;\n    }\n\n    .dataframe thead th {\n        text-align: right;\n    }\n</style>\n<table border=\"1\" class=\"dataframe\">\n  <thead>\n    <tr style=\"text-align: right;\">\n      <th></th>\n      <th>ensembl</th>\n      <th>ncbi</th>\n    </tr>\n  </thead>\n  <tbody>\n    <tr>\n      <th>0</th>\n      <td>ENSACLG00000022864</td>\n      <td>113014219</td>\n    </tr>\n    <tr>\n      <th>1</th>\n      <td>ENSACLG00000022864</td>\n      <td>113014220</td>\n    </tr>\n    <tr>\n      <th>2</th>\n      <td>ENSACLG00000022864</td>\n      <td>113014997</td>\n    </tr>\n    <tr>\n      <th>3</th>\n      <td>ENSANAG00000022009</td>\n      <td>105713045</td>\n    </tr>\n    <tr>\n      <th>4</th>\n      <td>ENSANAG00000022009</td>\n      <td>105713046</td>\n    </tr>\n    <tr>\n      <th>5</th>\n      <td>ENSANAG00000022009</td>\n      <td>105713048</td>\n    </tr>\n    <tr>\n      <th>6</th>\n      <td>ENSANAG00000022359</td>\n      <td>105725676</td>\n    </tr>\n    <tr>\n      <th>7</th>\n      <td>ENSANAG00000022359</td>\n      <td>105725677</td>\n    </tr>\n    <tr>\n      <th>8</th>\n      <td>ENSANAG00000022359</td>\n      <td>105725683</td>\n    </tr>\n    <tr>\n      <th>9</th>\n      <td>ENSANAG00000025766</td>\n      <td>105710885</td>\n    </tr>\n    <tr>\n      <th>10</th>\n      <td>ENSANAG00000025766</td>\n      <td>105710886</td>\n    </tr>\n    <tr>\n      <th>11</th>\n      <td>ENSANAG00000025766</td>\n      <td>105710887</td>\n    </tr>\n    <tr>\n      <th>12</th>\n      <td>ENSANAG00000027651</td>\n      <td>105721680</td>\n    </tr>\n    <tr>\n      <th>13</th>\n      <td>ENSANAG00000027651</td>\n      <td>105721706</td>\n    </tr>\n    <tr>\n      <th>14</th>\n      <td>ENSANAG00000027651</td>\n      <td>110567017</td>\n    </tr>\n    <tr>\n      <th>15</th>\n      <td>ENSANAG00000028664</td>\n      <td>105717540</td>\n    </tr>\n    <tr>\n      <th>16</th>\n      <td>ENSANAG00000028664</td>\n      <td>105717541</td>\n    </tr>\n    <tr>\n      <th>17</th>\n      <td>ENSANAG00000028664</td>\n      <td>110567003</td>\n    </tr>\n    <tr>\n      <th>18</th>\n      <td>ENSANAG00000031923</td>\n      <td>105708938</td>\n    </tr>\n    <tr>\n      <th>19</th>\n      <td>ENSANAG00000031923</td>\n      <td>105708939</td>\n    </tr>\n    <tr>\n      <th>20</th>\n      <td>ENSANAG00000031923</td>\n      <td>105708940</td>\n    </tr>\n    <tr>\n      <th>21</th>\n      <td>ENSANAG00000032272</td>\n      <td>105719456</td>\n    </tr>\n    <tr>\n      <th>22</th>\n      <td>ENSANAG00000032272</td>\n      <td>105719457</td>\n    </tr>\n    <tr>\n      <th>23</th>\n      <td>ENSANAG00000032272</td>\n      <td>105719458</td>\n    </tr>\n    <tr>\n      <th>24</th>\n      <td>ENSBTAG00000017349</td>\n      <td>521340</td>\n    </tr>\n    <tr>\n      <th>25</th>\n      <td>ENSBTAG00000017349</td>\n      <td>532241</td>\n    </tr>\n    <tr>\n      <th>26</th>\n      <td>ENSBTAG00000017349</td>\n      <td>539654</td>\n    </tr>\n    <tr>\n      <th>27</th>\n      <td>ENSBTAG00000017349</td>\n      <td>100125301</td>\n    </tr>\n    <tr>\n      <th>28</th>\n      <td>ENSCAFG00000002372</td>\n      <td>100686206</td>\n    </tr>\n    <tr>\n      <th>29</th>\n      <td>ENSCAFG00000002372</td>\n      <td>102154776</td>\n    </tr>\n    <tr>\n      <th>...</th>\n      <td>...</td>\n      <td>...</td>\n    </tr>\n    <tr>\n      <th>333</th>\n      <td>ENSSSCG00000011147</td>\n      <td>733634</td>\n    </tr>\n    <tr>\n      <th>334</th>\n      <td>ENSSSCG00000011147</td>\n      <td>733694</td>\n    </tr>\n    <tr>\n      <th>335</th>\n      <td>ENSSSCG00000011349</td>\n      <td>396871</td>\n    </tr>\n    <tr>\n      <th>336</th>\n      <td>ENSSSCG00000011349</td>\n      <td>407610</td>\n    </tr>\n    <tr>\n      <th>337</th>\n      <td>ENSSSCG00000011349</td>\n      <td>100144484</td>\n    </tr>\n    <tr>\n      <th>338</th>\n      <td>ENSSSCG00000011349</td>\n      <td>100170138</td>\n    </tr>\n    <tr>\n      <th>339</th>\n      <td>ENSSSCG00000017448</td>\n      <td>100515339</td>\n    </tr>\n    <tr>\n      <th>340</th>\n      <td>ENSSSCG00000017448</td>\n      <td>100737113</td>\n    </tr>\n    <tr>\n      <th>341</th>\n      <td>ENSSSCG00000017448</td>\n      <td>110255312</td>\n    </tr>\n    <tr>\n      <th>342</th>\n      <td>ENSSSCG00000024973</td>\n      <td>100151938</td>\n    </tr>\n    <tr>\n      <th>343</th>\n      <td>ENSSSCG00000024973</td>\n      <td>100523492</td>\n    </tr>\n    <tr>\n      <th>344</th>\n      <td>ENSSSCG00000024973</td>\n      <td>100523668</td>\n    </tr>\n    <tr>\n      <th>345</th>\n      <td>ENSSSCG00000027013</td>\n      <td>100620559</td>\n    </tr>\n    <tr>\n      <th>346</th>\n      <td>ENSSSCG00000027013</td>\n      <td>102167481</td>\n    </tr>\n    <tr>\n      <th>347</th>\n      <td>ENSSSCG00000027013</td>\n      <td>110255237</td>\n    </tr>\n    <tr>\n      <th>348</th>\n      <td>ENSSSCG00000028123</td>\n      <td>100192441</td>\n    </tr>\n    <tr>\n      <th>349</th>\n      <td>ENSSSCG00000028123</td>\n      <td>100627341</td>\n    </tr>\n    <tr>\n      <th>350</th>\n      <td>ENSSSCG00000028123</td>\n      <td>110255463</td>\n    </tr>\n    <tr>\n      <th>351</th>\n      <td>ENSSSCG00000030168</td>\n      <td>403331</td>\n    </tr>\n    <tr>\n      <th>352</th>\n      <td>ENSSSCG00000030168</td>\n      <td>403332</td>\n    </tr>\n    <tr>\n      <th>353</th>\n      <td>ENSSSCG00000030168</td>\n      <td>403333</td>\n    </tr>\n    <tr>\n      <th>354</th>\n      <td>ENSSSCG00000035393</td>\n      <td>100511002</td>\n    </tr>\n    <tr>\n      <th>355</th>\n      <td>ENSSSCG00000035393</td>\n      <td>100511739</td>\n    </tr>\n    <tr>\n      <th>356</th>\n      <td>ENSSSCG00000035393</td>\n      <td>100526207</td>\n    </tr>\n    <tr>\n      <th>357</th>\n      <td>ENSSTOG00000021850</td>\n      <td>101958779</td>\n    </tr>\n    <tr>\n      <th>358</th>\n      <td>ENSSTOG00000021850</td>\n      <td>101959058</td>\n    </tr>\n    <tr>\n      <th>359</th>\n      <td>ENSSTOG00000021850</td>\n      <td>101959346</td>\n    </tr>\n    <tr>\n      <th>360</th>\n      <td>ENSXMAG00000023916</td>\n      <td>102220377</td>\n    </tr>\n    <tr>\n      <th>361</th>\n      <td>ENSXMAG00000023916</td>\n      <td>102224524</td>\n    </tr>\n    <tr>\n      <th>362</th>\n      <td>ENSXMAG00000023916</td>\n      <td>102225049</td>\n    </tr>\n  </tbody>\n</table>\n<p>363 rows × 2 columns</p>\n</div>"
    }
   },
   "source": [
    "{{pandas.DataFrame.from_records(res,columns=colnames)}}"
   ]
  },
  {
   "cell_type": "markdown",
   "metadata": {},
   "source": [
    "## When NCBI and Ensembl both disagree (according to IDs)"
   ]
  },
  {
   "cell_type": "code",
   "execution_count": 73,
   "metadata": {
    "code_folding": [],
    "hide_input": true
   },
   "outputs": [],
   "source": [
    "cursor.execute(\"\"\"\n",
    "    select count(*)\n",
    "    from ent2ens\n",
    "    left join ens2ent\n",
    "    on ent2ens.ncbi = ens2ent.ncbi and ent2ens.ensembl = ens2ent.ensembl\n",
    "    where ens2ent.ncbi is null and ens2ent.ensembl is null\n",
    "    \"\"\")\n",
    "ncbi_mappings_only = cursor.fetchone()[0]\n",
    "cursor.execute(\"\"\"\n",
    "    select count(*)\n",
    "    from ens2ent\n",
    "    left join ent2ens\n",
    "    on ens2ent.ncbi = ent2ens.ncbi and ens2ent.ensembl = ent2ens.ensembl\n",
    "    where ent2ens.ncbi is null and ent2ens.ensembl is null\n",
    "    \"\"\")\n",
    "ensembl_mappings_only = cursor.fetchone()[0]"
   ]
  },
  {
   "cell_type": "markdown",
   "metadata": {
    "hide_input": true,
    "variables": {
     "\"{:,}\".format(ensembl_mappings_only)": "309,449",
     "\"{:,}\".format(ncbi_mappings_only)": "244,204",
     "\"{:,}\".format(ncbi_mappings_only+ensembl_mappings_only)": "553,653"
    }
   },
   "source": [
    "- ``{{\"{:,}\".format(ncbi_mappings_only)}}`` mappings are only found in Entrez mapping file\n",
    "- ``{{\"{:,}\".format(ensembl_mappings_only)}}`` mappings are only found in Ensembl mapping file\n",
    "\n",
    "Overall, that's ``{{\"{:,}\".format(ncbi_mappings_only+ensembl_mappings_only)}}`` ambiguous mappings..."
   ]
  },
  {
   "cell_type": "code",
   "execution_count": 74,
   "metadata": {
    "code_folding": [],
    "hide_input": true,
    "scrolled": false
   },
   "outputs": [],
   "source": [
    "cursor.execute(\"\"\"\n",
    "    select entrez_ncbi, entrez_ensembl, entrez_symbol,\n",
    "           ens2ent.symbol as ensembl_symbol,\n",
    "           ens2ent.ensembl as ensembl_ensembl,\n",
    "           ens2ent.ncbi as ensembl_ncbi\n",
    "    from (\n",
    "        select ent2ens.ncbi as entrez_ncbi,\n",
    "               ent2ens.ensembl as entrez_ensembl,\n",
    "               ent2ens.symbol as entrez_symbol\n",
    "        from ent2ens\n",
    "        left join ens2ent\n",
    "        on ent2ens.ncbi = ens2ent.ncbi and ent2ens.ensembl = ens2ent.ensembl\n",
    "        where ens2ent.ncbi is null and ens2ent.ensembl is null)\n",
    "    t\n",
    "    inner join ens2ent on entrez_ncbi = ens2ent.ncbi\n",
    "    \"\"\")\n",
    "res = list(cursor.fetchall())\n",
    "unique_ambiguous_entrez_mappings = len(res)\n",
    "colnames = tuple([desc[0] for desc in cursor.description])\n",
    "pd_ambiguous_entrez = pandas.DataFrame.from_records(res,columns=colnames)"
   ]
  },
  {
   "cell_type": "code",
   "execution_count": 75,
   "metadata": {
    "code_folding": [],
    "hide_input": true,
    "scrolled": false
   },
   "outputs": [],
   "source": [
    "cursor.execute(\"\"\"\n",
    "    select entrez_ncbi, entrez_ensembl, entrez_symbol,\n",
    "           ens2ent.symbol as ensembl_symbol,\n",
    "           ens2ent.ensembl as ensembl_ensembl,\n",
    "           ens2ent.ncbi as ensembl_ncbi\n",
    "    from (\n",
    "        select ent2ens.symbol as entrez_symbol,\n",
    "               ent2ens.ncbi as entrez_ncbi,\n",
    "               ent2ens.ensembl as entrez_ensembl\n",
    "        from ent2ens\n",
    "        left join ens2ent\n",
    "        on ent2ens.ncbi = ens2ent.ncbi and ent2ens.ensembl = ens2ent.ensembl\n",
    "        where ens2ent.ncbi is null and ens2ent.ensembl is null)\n",
    "    t\n",
    "    inner join ens2ent on entrez_ncbi = ens2ent.ncbi and entrez_symbol = ens2ent.symbol\n",
    "    \"\"\")\n",
    "res = list(cursor.fetchall())\n",
    "unique_nonambiguous_entrez_mappings = len(res)\n",
    "colnames = tuple([desc[0] for desc in cursor.description])\n",
    "pd_disambiguated_entrez = pandas.DataFrame.from_records(res,columns=colnames)"
   ]
  },
  {
   "cell_type": "code",
   "execution_count": 76,
   "metadata": {
    "code_folding": [],
    "hide_input": true,
    "scrolled": true
   },
   "outputs": [],
   "source": [
    "cursor.execute(\"\"\"\n",
    "    select ensembl_ensembl,ensembl_ncbi,ensembl_symbol,\n",
    "           ent2ens.symbol as entrez_symbol,\n",
    "           ent2ens.ncbi as entrez_ncbi,\n",
    "           ent2ens.ensembl as entrez_ensembl\n",
    "    from (\n",
    "        select ens2ent.symbol as ensembl_symbol,\n",
    "               ens2ent.ensembl as ensembl_ensembl,\n",
    "               ens2ent.ncbi as ensembl_ncbi\n",
    "        from ens2ent\n",
    "        left join ent2ens\n",
    "        on ens2ent.ncbi = ent2ens.ncbi and ens2ent.ensembl = ent2ens.ensembl\n",
    "        where ent2ens.ncbi is null and ent2ens.ensembl is null)\n",
    "    t\n",
    "    inner join ent2ens\n",
    "    on ensembl_ensembl = ent2ens.ensembl\n",
    "    \"\"\")\n",
    "res = list(cursor.fetchall())\n",
    "unique_ambiguous_ensembl_mappings = len(res)\n",
    "colnames = tuple([desc[0] for desc in cursor.description])\n",
    "pd_ambiguous_ensembl = pandas.DataFrame.from_records(res,columns=colnames)"
   ]
  },
  {
   "cell_type": "code",
   "execution_count": 77,
   "metadata": {
    "code_folding": [],
    "hide_input": true,
    "scrolled": true
   },
   "outputs": [],
   "source": [
    "cursor.execute(\"\"\"\n",
    "    select ensembl_ensembl,ensembl_ncbi,ensembl_symbol,\n",
    "           ent2ens.symbol as entrez_symbol,\n",
    "           ent2ens.ncbi as entrez_ncbi,\n",
    "           ent2ens.ensembl as entrez_ensembl\n",
    "    from (\n",
    "        select ens2ent.symbol as ensembl_symbol,\n",
    "               ens2ent.ensembl as ensembl_ensembl,\n",
    "               ens2ent.ncbi as ensembl_ncbi\n",
    "        from ens2ent\n",
    "        left join ent2ens\n",
    "        on ens2ent.ncbi = ent2ens.ncbi and ens2ent.ensembl = ent2ens.ensembl\n",
    "        where ent2ens.ncbi is null and ent2ens.ensembl is null)\n",
    "    t\n",
    "    inner join ent2ens\n",
    "    on ensembl_ensembl = ent2ens.ensembl and ensembl_symbol = ent2ens.symbol\n",
    "    \"\"\")\n",
    "res = list(cursor.fetchall())\n",
    "unique_nonambiguous_ensembl_mappings = len(res)\n",
    "colnames = tuple([desc[0] for desc in cursor.description])\n",
    "pd_disambiguated_ensembl = pandas.DataFrame.from_records(res,columns=colnames)"
   ]
  },
  {
   "cell_type": "markdown",
   "metadata": {
    "hide_input": true,
    "variables": {
     "\"{:,}\".format(ensembl_mappings_only)": "309,449"
    }
   },
   "source": [
    "### Unique mappings from Ensembl: what does NCBI say ?\n",
    "Following are mappings (ncbi->ensembl) only found from Ensembl (total: ``{{\"{:,}\".format(ensembl_mappings_only)}}``), in relation to Entrez mappings based in NCBI ID. In other words, for each unique Ensembl mappings, is there another mapping in Entrez based on NCBI ID (which would obviously have a different Ensembl ID)? What are the ambiguous Ensembl mappings where Entrez says something different?"
   ]
  },
  {
   "cell_type": "markdown",
   "metadata": {
    "hide_input": false,
    "variables": {
     "\"{:,}\".format(ncbi_mappings_only)": "244,204",
     "\"{:,}\".format(ncbi_mappings_only-unique_ambiguous_entrez_mappings)": "241,644",
     "\"{:,}\".format(unique_ambiguous_entrez_mappings)": "2,560",
     "pd_ambiguous_entrez": "<div>\n<style scoped>\n    .dataframe tbody tr th:only-of-type {\n        vertical-align: middle;\n    }\n\n    .dataframe tbody tr th {\n        vertical-align: top;\n    }\n\n    .dataframe thead th {\n        text-align: right;\n    }\n</style>\n<table border=\"1\" class=\"dataframe\">\n  <thead>\n    <tr style=\"text-align: right;\">\n      <th></th>\n      <th>entrez_ncbi</th>\n      <th>entrez_ensembl</th>\n      <th>entrez_symbol</th>\n      <th>ensembl_symbol</th>\n      <th>ensembl_ensembl</th>\n      <th>ensembl_ncbi</th>\n    </tr>\n  </thead>\n  <tbody>\n    <tr>\n      <th>0</th>\n      <td>100398854</td>\n      <td>ENSCJAG00000014623</td>\n      <td>ABCB4</td>\n      <td>ABCB4</td>\n      <td>ENSCJAG00000014528</td>\n      <td>100398854</td>\n    </tr>\n    <tr>\n      <th>1</th>\n      <td>103676089</td>\n      <td>ENSUMAG00000006485</td>\n      <td>ABCC5</td>\n      <td></td>\n      <td>ENSUMAG00000006482</td>\n      <td>103676089</td>\n    </tr>\n    <tr>\n      <th>2</th>\n      <td>100482314</td>\n      <td>ENSAMEG00000011997</td>\n      <td>ABHD6</td>\n      <td>ABHD6</td>\n      <td>ENSAMEG00000011973</td>\n      <td>100482314</td>\n    </tr>\n    <tr>\n      <th>3</th>\n      <td>100409554</td>\n      <td>ENSCJAG00000017058</td>\n      <td>ABITRAM</td>\n      <td>FAM206A</td>\n      <td>ENSCJAG00000038185</td>\n      <td>100409554</td>\n    </tr>\n    <tr>\n      <th>4</th>\n      <td>100415185</td>\n      <td>ENSCJAG00000006567</td>\n      <td>ABRA</td>\n      <td>ABRA</td>\n      <td>ENSCJAG00000040325</td>\n      <td>100415185</td>\n    </tr>\n    <tr>\n      <th>5</th>\n      <td>100896945</td>\n      <td>ENSCJAG00000019110</td>\n      <td>ABRACL</td>\n      <td>ABRACL</td>\n      <td>ENSCJAG00000040797</td>\n      <td>100896945</td>\n    </tr>\n    <tr>\n      <th>6</th>\n      <td>100406431</td>\n      <td>ENSCJAG00000012717</td>\n      <td>ACBD3</td>\n      <td>ACBD3</td>\n      <td>ENSCJAG00000038924</td>\n      <td>100406431</td>\n    </tr>\n    <tr>\n      <th>7</th>\n      <td>107976928</td>\n      <td>ENSPTRG00000041316</td>\n      <td>ACBD7</td>\n      <td></td>\n      <td>ENSPTRG00000044773</td>\n      <td>107976928</td>\n    </tr>\n    <tr>\n      <th>8</th>\n      <td>100415328</td>\n      <td>ENSCJAG00000006130</td>\n      <td>ACOT13</td>\n      <td>ACOT13</td>\n      <td>ENSCJAG00000039005</td>\n      <td>100415328</td>\n    </tr>\n    <tr>\n      <th>9</th>\n      <td>100895886</td>\n      <td>ENSCJAG00000005001</td>\n      <td>ACOT9</td>\n      <td>ACOT9</td>\n      <td>ENSCJAG00000040134</td>\n      <td>100895886</td>\n    </tr>\n    <tr>\n      <th>10</th>\n      <td>103246953</td>\n      <td>ENSCSAG00000017672</td>\n      <td>ACTB</td>\n      <td>ACTB</td>\n      <td>ENSCSAG00000000444</td>\n      <td>103246953</td>\n    </tr>\n    <tr>\n      <th>11</th>\n      <td>505890</td>\n      <td>ENSBTAG00000001125</td>\n      <td>ADAMDEC1</td>\n      <td>ADAM28</td>\n      <td>ENSBTAG00000037929</td>\n      <td>505890</td>\n    </tr>\n    <tr>\n      <th>12</th>\n      <td>100390670</td>\n      <td>ENSCJAG00000000097</td>\n      <td>ADCYAP1</td>\n      <td>ADCYAP1</td>\n      <td>ENSCJAG00000045833</td>\n      <td>100390670</td>\n    </tr>\n    <tr>\n      <th>13</th>\n      <td>100411264</td>\n      <td>ENSCJAG00000011860</td>\n      <td>ADGRF2</td>\n      <td>ADGRF4</td>\n      <td>ENSCJAG00000011845</td>\n      <td>100411264</td>\n    </tr>\n    <tr>\n      <th>14</th>\n      <td>100390830</td>\n      <td>ENSCJAG00000015102</td>\n      <td>ADH1C</td>\n      <td></td>\n      <td>ENSCJAG00000035400</td>\n      <td>100390830</td>\n    </tr>\n    <tr>\n      <th>15</th>\n      <td>100407614</td>\n      <td>ENSCJAG00000014478</td>\n      <td>ADIPOQ</td>\n      <td>ADIPOQ</td>\n      <td>ENSCJAG00000046627</td>\n      <td>100407614</td>\n    </tr>\n    <tr>\n      <th>16</th>\n      <td>100405905</td>\n      <td>ENSCJAG00000023429</td>\n      <td>ADO</td>\n      <td>ADO</td>\n      <td>ENSCJAG00000042988</td>\n      <td>100405905</td>\n    </tr>\n    <tr>\n      <th>17</th>\n      <td>100414106</td>\n      <td>ENSCJAG00000021710</td>\n      <td>ADRB2</td>\n      <td>ADRB2</td>\n      <td>ENSCJAG00000046663</td>\n      <td>100414106</td>\n    </tr>\n    <tr>\n      <th>18</th>\n      <td>100397000</td>\n      <td>ENSCJAG00000005947</td>\n      <td>AFG1L</td>\n      <td>AFG1L</td>\n      <td>ENSCJAG00000045868</td>\n      <td>100397000</td>\n    </tr>\n    <tr>\n      <th>19</th>\n      <td>100391743</td>\n      <td>ENSCJAG00000036030</td>\n      <td>AHNAK</td>\n      <td>AHNAK</td>\n      <td>ENSCJAG00000047955</td>\n      <td>100391743</td>\n    </tr>\n    <tr>\n      <th>20</th>\n      <td>100387272</td>\n      <td>ENSCJAG00000016835</td>\n      <td>AK4</td>\n      <td>AK4</td>\n      <td>ENSCJAG00000046466</td>\n      <td>100387272</td>\n    </tr>\n    <tr>\n      <th>21</th>\n      <td>100405541</td>\n      <td>ENSCJAG00000023098</td>\n      <td>AKAIN1</td>\n      <td>AKAIN1</td>\n      <td>ENSCJAG00000042385</td>\n      <td>100405541</td>\n    </tr>\n    <tr>\n      <th>22</th>\n      <td>100068830</td>\n      <td>ENSECAG00000012589</td>\n      <td>AKIRIN1</td>\n      <td></td>\n      <td>ENSECAG00000035155</td>\n      <td>100068830</td>\n    </tr>\n    <tr>\n      <th>23</th>\n      <td>100397151</td>\n      <td>ENSCJAG00000002309</td>\n      <td>AKIRIN1</td>\n      <td>AKIRIN1</td>\n      <td>ENSCJAG00000043919</td>\n      <td>100397151</td>\n    </tr>\n    <tr>\n      <th>24</th>\n      <td>100396426</td>\n      <td>ENSCJAG00000018145</td>\n      <td>ALG14</td>\n      <td>ALG14</td>\n      <td>ENSCJAG00000046485</td>\n      <td>100396426</td>\n    </tr>\n    <tr>\n      <th>25</th>\n      <td>292780</td>\n      <td>ENSRNOG00000025216</td>\n      <td>ALKBH6</td>\n      <td>ALKBH6</td>\n      <td>ENSRNOG00000047943</td>\n      <td>292780</td>\n    </tr>\n    <tr>\n      <th>26</th>\n      <td>100394712</td>\n      <td>ENSCJAG00000009750</td>\n      <td>ALKBH6</td>\n      <td>ALKBH6</td>\n      <td>ENSCJAG00000043322</td>\n      <td>100394712</td>\n    </tr>\n    <tr>\n      <th>27</th>\n      <td>103793428</td>\n      <td>ENSCJAG00000019127</td>\n      <td>ANAPC11</td>\n      <td>ANAPC11</td>\n      <td>ENSCJAG00000046979</td>\n      <td>103793428</td>\n    </tr>\n    <tr>\n      <th>28</th>\n      <td>100398044</td>\n      <td>ENSCJAG00000007287</td>\n      <td>ANAPC16</td>\n      <td>ANAPC16</td>\n      <td>ENSCJAG00000038316</td>\n      <td>100398044</td>\n    </tr>\n    <tr>\n      <th>29</th>\n      <td>101433372</td>\n      <td>ENSDNOG00000012081</td>\n      <td>ANK1</td>\n      <td></td>\n      <td>ENSDNOG00000031978</td>\n      <td>101433372</td>\n    </tr>\n    <tr>\n      <th>...</th>\n      <td>...</td>\n      <td>...</td>\n      <td>...</td>\n      <td>...</td>\n      <td>...</td>\n      <td>...</td>\n    </tr>\n    <tr>\n      <th>2530</th>\n      <td>100412350</td>\n      <td>ENSCJAG00000011933</td>\n      <td>ZNF287</td>\n      <td>ZNF287</td>\n      <td>ENSCJAG00000041808</td>\n      <td>100412350</td>\n    </tr>\n    <tr>\n      <th>2531</th>\n      <td>100386503</td>\n      <td>ENSCJAG00000022826</td>\n      <td>ZNF319</td>\n      <td>ZNF319</td>\n      <td>ENSCJAG00000039505</td>\n      <td>100386503</td>\n    </tr>\n    <tr>\n      <th>2532</th>\n      <td>103790064</td>\n      <td>ENSCJAG00000018320</td>\n      <td>ZNF331</td>\n      <td>ZNF331</td>\n      <td>ENSCJAG00000042789</td>\n      <td>103790064</td>\n    </tr>\n    <tr>\n      <th>2533</th>\n      <td>100406479</td>\n      <td>ENSCJAG00000001133</td>\n      <td>ZNF362</td>\n      <td>ZNF362</td>\n      <td>ENSCJAG00000046438</td>\n      <td>100406479</td>\n    </tr>\n    <tr>\n      <th>2534</th>\n      <td>104871972</td>\n      <td>ENSFDAG00000001890</td>\n      <td>ZNF397</td>\n      <td></td>\n      <td>ENSFDAG00000021477</td>\n      <td>104871972</td>\n    </tr>\n    <tr>\n      <th>2535</th>\n      <td>100386036</td>\n      <td>ENSCJAG00000013449</td>\n      <td>ZNF420</td>\n      <td>ZNF420</td>\n      <td>ENSCJAG00000047533</td>\n      <td>100386036</td>\n    </tr>\n    <tr>\n      <th>2536</th>\n      <td>100410329</td>\n      <td>ENSCJAG00000014517</td>\n      <td>ZNF449</td>\n      <td>ZNF449</td>\n      <td>ENSCJAG00000043390</td>\n      <td>100410329</td>\n    </tr>\n    <tr>\n      <th>2537</th>\n      <td>103789913</td>\n      <td>ENSCJAG00000009497</td>\n      <td>ZNF461</td>\n      <td>ZNF461</td>\n      <td>ENSCJAG00000039963</td>\n      <td>103789913</td>\n    </tr>\n    <tr>\n      <th>2538</th>\n      <td>100408096</td>\n      <td>ENSCJAG00000018935</td>\n      <td>ZNF514</td>\n      <td>ZNF514</td>\n      <td>ENSCJAG00000043223</td>\n      <td>100408096</td>\n    </tr>\n    <tr>\n      <th>2539</th>\n      <td>103787295</td>\n      <td>ENSCJAG00000000026</td>\n      <td>ZNF547</td>\n      <td>ZNF547</td>\n      <td>ENSCJAG00000043886</td>\n      <td>103787295</td>\n    </tr>\n    <tr>\n      <th>2540</th>\n      <td>103790121</td>\n      <td>ENSCJAG00000000037</td>\n      <td>ZNF549</td>\n      <td>ZNF549</td>\n      <td>ENSCJAG00000046873</td>\n      <td>103790121</td>\n    </tr>\n    <tr>\n      <th>2541</th>\n      <td>100410528</td>\n      <td>ENSCJAG00000012779</td>\n      <td>ZNF572</td>\n      <td>ZNF572</td>\n      <td>ENSCJAG00000044611</td>\n      <td>100410528</td>\n    </tr>\n    <tr>\n      <th>2542</th>\n      <td>100397982</td>\n      <td>ENSCJAG00000017124</td>\n      <td>ZNF580</td>\n      <td>ZNF580</td>\n      <td>ENSCJAG00000040930</td>\n      <td>100397982</td>\n    </tr>\n    <tr>\n      <th>2543</th>\n      <td>103790104</td>\n      <td>ENSCJAG00000020288</td>\n      <td>ZNF583</td>\n      <td>ZNF583</td>\n      <td>ENSCJAG00000043114</td>\n      <td>103790104</td>\n    </tr>\n    <tr>\n      <th>2544</th>\n      <td>100413835</td>\n      <td>ENSCJAG00000002948</td>\n      <td>ZNF629</td>\n      <td>ZNF629</td>\n      <td>ENSCJAG00000044119</td>\n      <td>100413835</td>\n    </tr>\n    <tr>\n      <th>2545</th>\n      <td>100386083</td>\n      <td>ENSCJAG00000020528</td>\n      <td>ZNF664</td>\n      <td>ZNF664</td>\n      <td>ENSCJAG00000038572</td>\n      <td>100386083</td>\n    </tr>\n    <tr>\n      <th>2546</th>\n      <td>100390870</td>\n      <td>ENSCJAG00000010854</td>\n      <td>ZNF70</td>\n      <td>ZNF70</td>\n      <td>ENSCJAG00000038628</td>\n      <td>100390870</td>\n    </tr>\n    <tr>\n      <th>2547</th>\n      <td>100410766</td>\n      <td>ENSCJAG00000015872</td>\n      <td>ZNF706</td>\n      <td>ZNF706</td>\n      <td>ENSCJAG00000039779</td>\n      <td>100410766</td>\n    </tr>\n    <tr>\n      <th>2548</th>\n      <td>106781531</td>\n      <td>ENSECAG00000016930</td>\n      <td>ZNF713</td>\n      <td></td>\n      <td>ENSECAG00000012583</td>\n      <td>106781531</td>\n    </tr>\n    <tr>\n      <th>2549</th>\n      <td>100684862</td>\n      <td>ENSCAFG00000032314</td>\n      <td>ZNF74</td>\n      <td>ZNF74</td>\n      <td>ENSCAFG00000030432</td>\n      <td>100684862</td>\n    </tr>\n    <tr>\n      <th>2550</th>\n      <td>100402499</td>\n      <td>ENSCJAG00000018381</td>\n      <td>ZNF740</td>\n      <td>ZNF740</td>\n      <td>ENSCJAG00000044519</td>\n      <td>100402499</td>\n    </tr>\n    <tr>\n      <th>2551</th>\n      <td>614260</td>\n      <td>ENSBTAG00000047939</td>\n      <td>ZNF75D</td>\n      <td>ZNF75D</td>\n      <td>ENSBTAG00000046047</td>\n      <td>614260</td>\n    </tr>\n    <tr>\n      <th>2552</th>\n      <td>103796609</td>\n      <td>ENSCJAG00000002691</td>\n      <td>ZNF764</td>\n      <td>ZNF764</td>\n      <td>ENSCJAG00000040969</td>\n      <td>103796609</td>\n    </tr>\n    <tr>\n      <th>2553</th>\n      <td>103790138</td>\n      <td>ENSCJAG00000000329</td>\n      <td>ZNF8</td>\n      <td>ZNF8</td>\n      <td>ENSCJAG00000047255</td>\n      <td>103790138</td>\n    </tr>\n    <tr>\n      <th>2554</th>\n      <td>100411989</td>\n      <td>ENSCJAG00000000024</td>\n      <td>ZNF805</td>\n      <td>ZNF805</td>\n      <td>ENSCJAG00000000022</td>\n      <td>100411989</td>\n    </tr>\n    <tr>\n      <th>2555</th>\n      <td>103150733</td>\n      <td>ENSPFOG00000003130</td>\n      <td>ZNF821</td>\n      <td></td>\n      <td>ENSPFOG00000003140</td>\n      <td>103150733</td>\n    </tr>\n    <tr>\n      <th>2556</th>\n      <td>103790045</td>\n      <td>ENSCJAG00000002036</td>\n      <td>ZNF836</td>\n      <td>ZNF836</td>\n      <td>ENSCJAG00000002058</td>\n      <td>103790045</td>\n    </tr>\n    <tr>\n      <th>2557</th>\n      <td>103795497</td>\n      <td>ENSCJAG00000013094</td>\n      <td>ZNF84</td>\n      <td>ZNF84</td>\n      <td>ENSCJAG00000045434</td>\n      <td>103795497</td>\n    </tr>\n    <tr>\n      <th>2558</th>\n      <td>100068602</td>\n      <td>ENSECAG00000022470</td>\n      <td>ZSCAN2</td>\n      <td></td>\n      <td>ENSECAG00000012271</td>\n      <td>100068602</td>\n    </tr>\n    <tr>\n      <th>2559</th>\n      <td>100387962</td>\n      <td>ENSCJAG00000012208</td>\n      <td>ZSWIM7</td>\n      <td>ZSWIM7</td>\n      <td>ENSCJAG00000045674</td>\n      <td>100387962</td>\n    </tr>\n  </tbody>\n</table>\n<p>2560 rows × 6 columns</p>\n</div>"
    }
   },
   "source": [
    "In the following table, each row shares the same Entrez ID, one from NCBI (most left), one from Ensembl (most right). Based on mappings only found on Entrez, it shows the different Ensembl ID claimed by each side.\n",
    "Out of ``{{\"{:,}\".format(ncbi_mappings_only)}}`` unique Entrez mappings, only ``{{\"{:,}\".format(unique_ambiguous_entrez_mappings)}}`` can be ambiguously mapped to Ensembl (same Entrez ID, but different Ensembl ID). There are thus ``{{\"{:,}\".format(ncbi_mappings_only-unique_ambiguous_entrez_mappings)}}`` mappings claimed **only** by Ensembl.\n",
    "\n",
    "{{pd_ambiguous_entrez}}"
   ]
  },
  {
   "cell_type": "markdown",
   "metadata": {
    "variables": {
     "\"{:,}\".format(len(pd_disambiguated_entrez))": "1,224",
     "pd_disambiguated_entrez": "<div>\n<style scoped>\n    .dataframe tbody tr th:only-of-type {\n        vertical-align: middle;\n    }\n\n    .dataframe tbody tr th {\n        vertical-align: top;\n    }\n\n    .dataframe thead th {\n        text-align: right;\n    }\n</style>\n<table border=\"1\" class=\"dataframe\">\n  <thead>\n    <tr style=\"text-align: right;\">\n      <th></th>\n      <th>entrez_ncbi</th>\n      <th>entrez_ensembl</th>\n      <th>entrez_symbol</th>\n      <th>ensembl_symbol</th>\n      <th>ensembl_ensembl</th>\n      <th>ensembl_ncbi</th>\n    </tr>\n  </thead>\n  <tbody>\n    <tr>\n      <th>0</th>\n      <td>100398854</td>\n      <td>ENSCJAG00000014623</td>\n      <td>ABCB4</td>\n      <td>ABCB4</td>\n      <td>ENSCJAG00000014528</td>\n      <td>100398854</td>\n    </tr>\n    <tr>\n      <th>1</th>\n      <td>100482314</td>\n      <td>ENSAMEG00000011997</td>\n      <td>ABHD6</td>\n      <td>ABHD6</td>\n      <td>ENSAMEG00000011973</td>\n      <td>100482314</td>\n    </tr>\n    <tr>\n      <th>2</th>\n      <td>100415185</td>\n      <td>ENSCJAG00000006567</td>\n      <td>ABRA</td>\n      <td>ABRA</td>\n      <td>ENSCJAG00000040325</td>\n      <td>100415185</td>\n    </tr>\n    <tr>\n      <th>3</th>\n      <td>100896945</td>\n      <td>ENSCJAG00000019110</td>\n      <td>ABRACL</td>\n      <td>ABRACL</td>\n      <td>ENSCJAG00000040797</td>\n      <td>100896945</td>\n    </tr>\n    <tr>\n      <th>4</th>\n      <td>100406431</td>\n      <td>ENSCJAG00000012717</td>\n      <td>ACBD3</td>\n      <td>ACBD3</td>\n      <td>ENSCJAG00000038924</td>\n      <td>100406431</td>\n    </tr>\n    <tr>\n      <th>5</th>\n      <td>100415328</td>\n      <td>ENSCJAG00000006130</td>\n      <td>ACOT13</td>\n      <td>ACOT13</td>\n      <td>ENSCJAG00000039005</td>\n      <td>100415328</td>\n    </tr>\n    <tr>\n      <th>6</th>\n      <td>100895886</td>\n      <td>ENSCJAG00000005001</td>\n      <td>ACOT9</td>\n      <td>ACOT9</td>\n      <td>ENSCJAG00000040134</td>\n      <td>100895886</td>\n    </tr>\n    <tr>\n      <th>7</th>\n      <td>103246953</td>\n      <td>ENSCSAG00000017672</td>\n      <td>ACTB</td>\n      <td>ACTB</td>\n      <td>ENSCSAG00000000444</td>\n      <td>103246953</td>\n    </tr>\n    <tr>\n      <th>8</th>\n      <td>100390670</td>\n      <td>ENSCJAG00000000097</td>\n      <td>ADCYAP1</td>\n      <td>ADCYAP1</td>\n      <td>ENSCJAG00000045833</td>\n      <td>100390670</td>\n    </tr>\n    <tr>\n      <th>9</th>\n      <td>100407614</td>\n      <td>ENSCJAG00000014478</td>\n      <td>ADIPOQ</td>\n      <td>ADIPOQ</td>\n      <td>ENSCJAG00000046627</td>\n      <td>100407614</td>\n    </tr>\n    <tr>\n      <th>10</th>\n      <td>100405905</td>\n      <td>ENSCJAG00000023429</td>\n      <td>ADO</td>\n      <td>ADO</td>\n      <td>ENSCJAG00000042988</td>\n      <td>100405905</td>\n    </tr>\n    <tr>\n      <th>11</th>\n      <td>100414106</td>\n      <td>ENSCJAG00000021710</td>\n      <td>ADRB2</td>\n      <td>ADRB2</td>\n      <td>ENSCJAG00000046663</td>\n      <td>100414106</td>\n    </tr>\n    <tr>\n      <th>12</th>\n      <td>100397000</td>\n      <td>ENSCJAG00000005947</td>\n      <td>AFG1L</td>\n      <td>AFG1L</td>\n      <td>ENSCJAG00000045868</td>\n      <td>100397000</td>\n    </tr>\n    <tr>\n      <th>13</th>\n      <td>100391743</td>\n      <td>ENSCJAG00000036030</td>\n      <td>AHNAK</td>\n      <td>AHNAK</td>\n      <td>ENSCJAG00000047955</td>\n      <td>100391743</td>\n    </tr>\n    <tr>\n      <th>14</th>\n      <td>100387272</td>\n      <td>ENSCJAG00000016835</td>\n      <td>AK4</td>\n      <td>AK4</td>\n      <td>ENSCJAG00000046466</td>\n      <td>100387272</td>\n    </tr>\n    <tr>\n      <th>15</th>\n      <td>100405541</td>\n      <td>ENSCJAG00000023098</td>\n      <td>AKAIN1</td>\n      <td>AKAIN1</td>\n      <td>ENSCJAG00000042385</td>\n      <td>100405541</td>\n    </tr>\n    <tr>\n      <th>16</th>\n      <td>100397151</td>\n      <td>ENSCJAG00000002309</td>\n      <td>AKIRIN1</td>\n      <td>AKIRIN1</td>\n      <td>ENSCJAG00000043919</td>\n      <td>100397151</td>\n    </tr>\n    <tr>\n      <th>17</th>\n      <td>100396426</td>\n      <td>ENSCJAG00000018145</td>\n      <td>ALG14</td>\n      <td>ALG14</td>\n      <td>ENSCJAG00000046485</td>\n      <td>100396426</td>\n    </tr>\n    <tr>\n      <th>18</th>\n      <td>292780</td>\n      <td>ENSRNOG00000025216</td>\n      <td>ALKBH6</td>\n      <td>ALKBH6</td>\n      <td>ENSRNOG00000047943</td>\n      <td>292780</td>\n    </tr>\n    <tr>\n      <th>19</th>\n      <td>100394712</td>\n      <td>ENSCJAG00000009750</td>\n      <td>ALKBH6</td>\n      <td>ALKBH6</td>\n      <td>ENSCJAG00000043322</td>\n      <td>100394712</td>\n    </tr>\n    <tr>\n      <th>20</th>\n      <td>103793428</td>\n      <td>ENSCJAG00000019127</td>\n      <td>ANAPC11</td>\n      <td>ANAPC11</td>\n      <td>ENSCJAG00000046979</td>\n      <td>103793428</td>\n    </tr>\n    <tr>\n      <th>21</th>\n      <td>100398044</td>\n      <td>ENSCJAG00000007287</td>\n      <td>ANAPC16</td>\n      <td>ANAPC16</td>\n      <td>ENSCJAG00000038316</td>\n      <td>100398044</td>\n    </tr>\n    <tr>\n      <th>22</th>\n      <td>100391876</td>\n      <td>ENSCJAG00000004361</td>\n      <td>ANKRD12</td>\n      <td>ANKRD12</td>\n      <td>ENSCJAG00000045973</td>\n      <td>100391876</td>\n    </tr>\n    <tr>\n      <th>23</th>\n      <td>100410729</td>\n      <td>ENSCJAG00000004069</td>\n      <td>ANKRD49</td>\n      <td>ANKRD49</td>\n      <td>ENSCJAG00000048277</td>\n      <td>100410729</td>\n    </tr>\n    <tr>\n      <th>24</th>\n      <td>25379</td>\n      <td>ENSRNOG00000058484</td>\n      <td>ANP32A</td>\n      <td>ANP32A</td>\n      <td>ENSRNOG00000014846</td>\n      <td>25379</td>\n    </tr>\n    <tr>\n      <th>25</th>\n      <td>100402308</td>\n      <td>ENSCJAG00000003799</td>\n      <td>AP1AR</td>\n      <td>AP1AR</td>\n      <td>ENSCJAG00000043368</td>\n      <td>100402308</td>\n    </tr>\n    <tr>\n      <th>26</th>\n      <td>100411052</td>\n      <td>ENSCJAG00000004393</td>\n      <td>AP1S2</td>\n      <td>AP1S2</td>\n      <td>ENSCJAG00000044763</td>\n      <td>100411052</td>\n    </tr>\n    <tr>\n      <th>27</th>\n      <td>100396026</td>\n      <td>ENSCJAG00000021209</td>\n      <td>AP5S1</td>\n      <td>AP5S1</td>\n      <td>ENSCJAG00000046376</td>\n      <td>100396026</td>\n    </tr>\n    <tr>\n      <th>28</th>\n      <td>100390542</td>\n      <td>ENSCJAG00000010844</td>\n      <td>APIP</td>\n      <td>APIP</td>\n      <td>ENSCJAG00000040364</td>\n      <td>100390542</td>\n    </tr>\n    <tr>\n      <th>29</th>\n      <td>100388708</td>\n      <td>ENSCJAG00000000135</td>\n      <td>APITD1</td>\n      <td>APITD1</td>\n      <td>ENSCJAG00000038779</td>\n      <td>100388708</td>\n    </tr>\n    <tr>\n      <th>...</th>\n      <td>...</td>\n      <td>...</td>\n      <td>...</td>\n      <td>...</td>\n      <td>...</td>\n      <td>...</td>\n    </tr>\n    <tr>\n      <th>1194</th>\n      <td>100394841</td>\n      <td>ENSCJAG00000015608</td>\n      <td>ZNF182</td>\n      <td>ZNF182</td>\n      <td>ENSCJAG00000048633</td>\n      <td>100394841</td>\n    </tr>\n    <tr>\n      <th>1195</th>\n      <td>100392208</td>\n      <td>ENSCJAG00000010260</td>\n      <td>ZNF212</td>\n      <td>ZNF212</td>\n      <td>ENSCJAG00000041244</td>\n      <td>100392208</td>\n    </tr>\n    <tr>\n      <th>1196</th>\n      <td>100392208</td>\n      <td>ENSCJAG00000031758</td>\n      <td>ZNF212</td>\n      <td>ZNF212</td>\n      <td>ENSCJAG00000041244</td>\n      <td>100392208</td>\n    </tr>\n    <tr>\n      <th>1197</th>\n      <td>100395924</td>\n      <td>ENSCJAG00000000798</td>\n      <td>ZNF267</td>\n      <td>ZNF267</td>\n      <td>ENSCJAG00000040669</td>\n      <td>100395924</td>\n    </tr>\n    <tr>\n      <th>1198</th>\n      <td>100412350</td>\n      <td>ENSCJAG00000011933</td>\n      <td>ZNF287</td>\n      <td>ZNF287</td>\n      <td>ENSCJAG00000041808</td>\n      <td>100412350</td>\n    </tr>\n    <tr>\n      <th>1199</th>\n      <td>100386503</td>\n      <td>ENSCJAG00000022826</td>\n      <td>ZNF319</td>\n      <td>ZNF319</td>\n      <td>ENSCJAG00000039505</td>\n      <td>100386503</td>\n    </tr>\n    <tr>\n      <th>1200</th>\n      <td>103790064</td>\n      <td>ENSCJAG00000018320</td>\n      <td>ZNF331</td>\n      <td>ZNF331</td>\n      <td>ENSCJAG00000042789</td>\n      <td>103790064</td>\n    </tr>\n    <tr>\n      <th>1201</th>\n      <td>100406479</td>\n      <td>ENSCJAG00000001133</td>\n      <td>ZNF362</td>\n      <td>ZNF362</td>\n      <td>ENSCJAG00000046438</td>\n      <td>100406479</td>\n    </tr>\n    <tr>\n      <th>1202</th>\n      <td>100386036</td>\n      <td>ENSCJAG00000013449</td>\n      <td>ZNF420</td>\n      <td>ZNF420</td>\n      <td>ENSCJAG00000047533</td>\n      <td>100386036</td>\n    </tr>\n    <tr>\n      <th>1203</th>\n      <td>100410329</td>\n      <td>ENSCJAG00000014517</td>\n      <td>ZNF449</td>\n      <td>ZNF449</td>\n      <td>ENSCJAG00000043390</td>\n      <td>100410329</td>\n    </tr>\n    <tr>\n      <th>1204</th>\n      <td>103789913</td>\n      <td>ENSCJAG00000009497</td>\n      <td>ZNF461</td>\n      <td>ZNF461</td>\n      <td>ENSCJAG00000039963</td>\n      <td>103789913</td>\n    </tr>\n    <tr>\n      <th>1205</th>\n      <td>100408096</td>\n      <td>ENSCJAG00000018935</td>\n      <td>ZNF514</td>\n      <td>ZNF514</td>\n      <td>ENSCJAG00000043223</td>\n      <td>100408096</td>\n    </tr>\n    <tr>\n      <th>1206</th>\n      <td>103787295</td>\n      <td>ENSCJAG00000000026</td>\n      <td>ZNF547</td>\n      <td>ZNF547</td>\n      <td>ENSCJAG00000043886</td>\n      <td>103787295</td>\n    </tr>\n    <tr>\n      <th>1207</th>\n      <td>103790121</td>\n      <td>ENSCJAG00000000037</td>\n      <td>ZNF549</td>\n      <td>ZNF549</td>\n      <td>ENSCJAG00000046873</td>\n      <td>103790121</td>\n    </tr>\n    <tr>\n      <th>1208</th>\n      <td>100410528</td>\n      <td>ENSCJAG00000012779</td>\n      <td>ZNF572</td>\n      <td>ZNF572</td>\n      <td>ENSCJAG00000044611</td>\n      <td>100410528</td>\n    </tr>\n    <tr>\n      <th>1209</th>\n      <td>100397982</td>\n      <td>ENSCJAG00000017124</td>\n      <td>ZNF580</td>\n      <td>ZNF580</td>\n      <td>ENSCJAG00000040930</td>\n      <td>100397982</td>\n    </tr>\n    <tr>\n      <th>1210</th>\n      <td>103790104</td>\n      <td>ENSCJAG00000020288</td>\n      <td>ZNF583</td>\n      <td>ZNF583</td>\n      <td>ENSCJAG00000043114</td>\n      <td>103790104</td>\n    </tr>\n    <tr>\n      <th>1211</th>\n      <td>100413835</td>\n      <td>ENSCJAG00000002948</td>\n      <td>ZNF629</td>\n      <td>ZNF629</td>\n      <td>ENSCJAG00000044119</td>\n      <td>100413835</td>\n    </tr>\n    <tr>\n      <th>1212</th>\n      <td>100386083</td>\n      <td>ENSCJAG00000020528</td>\n      <td>ZNF664</td>\n      <td>ZNF664</td>\n      <td>ENSCJAG00000038572</td>\n      <td>100386083</td>\n    </tr>\n    <tr>\n      <th>1213</th>\n      <td>100390870</td>\n      <td>ENSCJAG00000010854</td>\n      <td>ZNF70</td>\n      <td>ZNF70</td>\n      <td>ENSCJAG00000038628</td>\n      <td>100390870</td>\n    </tr>\n    <tr>\n      <th>1214</th>\n      <td>100410766</td>\n      <td>ENSCJAG00000015872</td>\n      <td>ZNF706</td>\n      <td>ZNF706</td>\n      <td>ENSCJAG00000039779</td>\n      <td>100410766</td>\n    </tr>\n    <tr>\n      <th>1215</th>\n      <td>100684862</td>\n      <td>ENSCAFG00000032314</td>\n      <td>ZNF74</td>\n      <td>ZNF74</td>\n      <td>ENSCAFG00000030432</td>\n      <td>100684862</td>\n    </tr>\n    <tr>\n      <th>1216</th>\n      <td>100402499</td>\n      <td>ENSCJAG00000018381</td>\n      <td>ZNF740</td>\n      <td>ZNF740</td>\n      <td>ENSCJAG00000044519</td>\n      <td>100402499</td>\n    </tr>\n    <tr>\n      <th>1217</th>\n      <td>614260</td>\n      <td>ENSBTAG00000047939</td>\n      <td>ZNF75D</td>\n      <td>ZNF75D</td>\n      <td>ENSBTAG00000046047</td>\n      <td>614260</td>\n    </tr>\n    <tr>\n      <th>1218</th>\n      <td>103796609</td>\n      <td>ENSCJAG00000002691</td>\n      <td>ZNF764</td>\n      <td>ZNF764</td>\n      <td>ENSCJAG00000040969</td>\n      <td>103796609</td>\n    </tr>\n    <tr>\n      <th>1219</th>\n      <td>103790138</td>\n      <td>ENSCJAG00000000329</td>\n      <td>ZNF8</td>\n      <td>ZNF8</td>\n      <td>ENSCJAG00000047255</td>\n      <td>103790138</td>\n    </tr>\n    <tr>\n      <th>1220</th>\n      <td>100411989</td>\n      <td>ENSCJAG00000000024</td>\n      <td>ZNF805</td>\n      <td>ZNF805</td>\n      <td>ENSCJAG00000000022</td>\n      <td>100411989</td>\n    </tr>\n    <tr>\n      <th>1221</th>\n      <td>103790045</td>\n      <td>ENSCJAG00000002036</td>\n      <td>ZNF836</td>\n      <td>ZNF836</td>\n      <td>ENSCJAG00000002058</td>\n      <td>103790045</td>\n    </tr>\n    <tr>\n      <th>1222</th>\n      <td>103795497</td>\n      <td>ENSCJAG00000013094</td>\n      <td>ZNF84</td>\n      <td>ZNF84</td>\n      <td>ENSCJAG00000045434</td>\n      <td>103795497</td>\n    </tr>\n    <tr>\n      <th>1223</th>\n      <td>100387962</td>\n      <td>ENSCJAG00000012208</td>\n      <td>ZSWIM7</td>\n      <td>ZSWIM7</td>\n      <td>ENSCJAG00000045674</td>\n      <td>100387962</td>\n    </tr>\n  </tbody>\n</table>\n<p>1224 rows × 6 columns</p>\n</div>"
    }
   },
   "source": [
    "If we use symbol as a join criteria, we can disambiguate ``{{\"{:,}\".format(len(pd_disambiguated_entrez))}}`` mappings. The Ensembl mapping is the one kept in mygene (``ensembl_ncbi -> ensembl_ensembl`` right columns)\n",
    "{{pd_disambiguated_entrez}}"
   ]
  },
  {
   "cell_type": "markdown",
   "metadata": {
    "hide_input": true,
    "variables": {
     "\"{:,}\".format(ncbi_mappings_only)": "244,204"
    }
   },
   "source": [
    "### Unique mappings from Entrez: what does Ensembl say ?\n",
    "Following are mappings (ncbi->ensembl) only found from Entrez (total: ``{{\"{:,}\".format(ncbi_mappings_only)}}``), in relation to Ensembl mappings based in NCBI ID. In other words, for each unique Entrez mappings, is there another mapping in Ensembl based on NCBI ID (which would obviously have a different Ensembl ID)? What are the ambiguous Entrez mappings where Ensembl says something different?"
   ]
  },
  {
   "cell_type": "markdown",
   "metadata": {
    "variables": {
     "\"{:,}\".format(ensembl_mappings_only)": "309,449",
     "\"{:,}\".format(ensembl_mappings_only-unique_ambiguous_ensembl_mappings)": "284,533",
     "\"{:,}\".format(unique_ambiguous_ensembl_mappings)": "24,916",
     "pd_ambiguous_ensembl": "<div>\n<style scoped>\n    .dataframe tbody tr th:only-of-type {\n        vertical-align: middle;\n    }\n\n    .dataframe tbody tr th {\n        vertical-align: top;\n    }\n\n    .dataframe thead th {\n        text-align: right;\n    }\n</style>\n<table border=\"1\" class=\"dataframe\">\n  <thead>\n    <tr style=\"text-align: right;\">\n      <th></th>\n      <th>ensembl_ensembl</th>\n      <th>ensembl_ncbi</th>\n      <th>ensembl_symbol</th>\n      <th>entrez_symbol</th>\n      <th>entrez_ncbi</th>\n      <th>entrez_ensembl</th>\n    </tr>\n  </thead>\n  <tbody>\n    <tr>\n      <th>0</th>\n      <td>ENSMUSG00000090440</td>\n      <td>666214</td>\n      <td>1700049E17RIK2</td>\n      <td>1700049E17RIK2</td>\n      <td>100041722</td>\n      <td>ENSMUSG00000090440</td>\n    </tr>\n    <tr>\n      <th>1</th>\n      <td>ENSMUSG00000094577</td>\n      <td>635580</td>\n      <td>4921511M17RIK</td>\n      <td>4921511M17RIK</td>\n      <td>667256</td>\n      <td>ENSMUSG00000094577</td>\n    </tr>\n    <tr>\n      <th>2</th>\n      <td>ENSMUSG00000094577</td>\n      <td>100040020</td>\n      <td>4921511M17RIK</td>\n      <td>4921511M17RIK</td>\n      <td>667256</td>\n      <td>ENSMUSG00000094577</td>\n    </tr>\n    <tr>\n      <th>3</th>\n      <td>ENSCAFG00000006931</td>\n      <td>100688197</td>\n      <td>AACS</td>\n      <td>AACS</td>\n      <td>486240</td>\n      <td>ENSCAFG00000006931</td>\n    </tr>\n    <tr>\n      <th>4</th>\n      <td>ENSNLEG00000011890</td>\n      <td>100607916</td>\n      <td></td>\n      <td>AARSD1</td>\n      <td>101177247</td>\n      <td>ENSNLEG00000011890</td>\n    </tr>\n    <tr>\n      <th>5</th>\n      <td>ENSCJAG00000014528</td>\n      <td>100398854</td>\n      <td>ABCB4</td>\n      <td>ABCB1</td>\n      <td>100398256</td>\n      <td>ENSCJAG00000014528</td>\n    </tr>\n    <tr>\n      <th>6</th>\n      <td>ENSECAG00000036801</td>\n      <td>111767402</td>\n      <td>ABCC9</td>\n      <td>ABCC9</td>\n      <td>100064351</td>\n      <td>ENSECAG00000036801</td>\n    </tr>\n    <tr>\n      <th>7</th>\n      <td>ENSRNOG00000047356</td>\n      <td>100909750</td>\n      <td>ABL1</td>\n      <td>ABL1</td>\n      <td>311860</td>\n      <td>ENSRNOG00000047356</td>\n    </tr>\n    <tr>\n      <th>8</th>\n      <td>ENSLBEG00000026776</td>\n      <td>110001000</td>\n      <td>MYO1F</td>\n      <td>ACER1</td>\n      <td>110001439</td>\n      <td>ENSLBEG00000026776</td>\n    </tr>\n    <tr>\n      <th>9</th>\n      <td>ENSDORG00000016469</td>\n      <td>105996622</td>\n      <td></td>\n      <td>ACP1</td>\n      <td>106001126</td>\n      <td>ENSDORG00000016469</td>\n    </tr>\n    <tr>\n      <th>10</th>\n      <td>ENSPTRG00000007846</td>\n      <td>453974</td>\n      <td>ACSM2B</td>\n      <td>ACSM2B</td>\n      <td>467918</td>\n      <td>ENSPTRG00000007846</td>\n    </tr>\n    <tr>\n      <th>11</th>\n      <td>ENSLACG00000013878</td>\n      <td>102361522</td>\n      <td>NUP133</td>\n      <td>ACTA1</td>\n      <td>102361082</td>\n      <td>ENSLACG00000013878</td>\n    </tr>\n    <tr>\n      <th>12</th>\n      <td>ENSRROG00000028698</td>\n      <td>104676787</td>\n      <td></td>\n      <td>ACTB</td>\n      <td>104665228</td>\n      <td>ENSRROG00000028698</td>\n    </tr>\n    <tr>\n      <th>13</th>\n      <td>ENSMUSG00000031085</td>\n      <td>102636989</td>\n      <td>GM498</td>\n      <td>ACTE1</td>\n      <td>244239</td>\n      <td>ENSMUSG00000031085</td>\n    </tr>\n    <tr>\n      <th>14</th>\n      <td>ENSDARG00000038475</td>\n      <td>103909643</td>\n      <td>ACY1</td>\n      <td>ACY1</td>\n      <td>393970</td>\n      <td>ENSDARG00000038475</td>\n    </tr>\n    <tr>\n      <th>15</th>\n      <td>ENSMUSG00000079058</td>\n      <td>384814</td>\n      <td>ADAM34</td>\n      <td>ADAM34</td>\n      <td>252866</td>\n      <td>ENSMUSG00000079058</td>\n    </tr>\n    <tr>\n      <th>16</th>\n      <td>ENSCJAG00000011845</td>\n      <td>100411264</td>\n      <td>ADGRF4</td>\n      <td>ADGRF4</td>\n      <td>100386983</td>\n      <td>ENSCJAG00000011845</td>\n    </tr>\n    <tr>\n      <th>17</th>\n      <td>ENSCJAG00000015102</td>\n      <td>100391782</td>\n      <td></td>\n      <td>ADH1B</td>\n      <td>100410778</td>\n      <td>ENSCJAG00000015102</td>\n    </tr>\n    <tr>\n      <th>18</th>\n      <td>ENSCJAG00000015102</td>\n      <td>100411741</td>\n      <td></td>\n      <td>ADH1B</td>\n      <td>100410778</td>\n      <td>ENSCJAG00000015102</td>\n    </tr>\n    <tr>\n      <th>19</th>\n      <td>ENSNLEG00000027230</td>\n      <td>100589790</td>\n      <td>ADH1B</td>\n      <td>ADH1B</td>\n      <td>100590471</td>\n      <td>ENSNLEG00000027230</td>\n    </tr>\n    <tr>\n      <th>20</th>\n      <td>ENSCJAG00000015102</td>\n      <td>100391782</td>\n      <td></td>\n      <td>ADH1C</td>\n      <td>100390830</td>\n      <td>ENSCJAG00000015102</td>\n    </tr>\n    <tr>\n      <th>21</th>\n      <td>ENSCJAG00000015102</td>\n      <td>100411741</td>\n      <td></td>\n      <td>ADH1C</td>\n      <td>100390830</td>\n      <td>ENSCJAG00000015102</td>\n    </tr>\n    <tr>\n      <th>22</th>\n      <td>ENSMFAG00000039572</td>\n      <td>102123800</td>\n      <td>ADH1B</td>\n      <td>ADH7</td>\n      <td>102125243</td>\n      <td>ENSMFAG00000039572</td>\n    </tr>\n    <tr>\n      <th>23</th>\n      <td>ENSMNEG00000033055</td>\n      <td>105486378</td>\n      <td>ADH7</td>\n      <td>ADH7</td>\n      <td>105486373</td>\n      <td>ENSMNEG00000033055</td>\n    </tr>\n    <tr>\n      <th>24</th>\n      <td>ENSMODG00000014484</td>\n      <td>103096762</td>\n      <td>ADI1</td>\n      <td>ADI1</td>\n      <td>100032300</td>\n      <td>ENSMODG00000014484</td>\n    </tr>\n    <tr>\n      <th>25</th>\n      <td>ENSRNOG00000050625</td>\n      <td>100911217</td>\n      <td>ADIG</td>\n      <td>ADIG</td>\n      <td>100361007</td>\n      <td>ENSRNOG00000050625</td>\n    </tr>\n    <tr>\n      <th>26</th>\n      <td>ENSCAFG00000013045</td>\n      <td>610687</td>\n      <td>ADO</td>\n      <td>ADO</td>\n      <td>489003</td>\n      <td>ENSCAFG00000013045</td>\n    </tr>\n    <tr>\n      <th>27</th>\n      <td>ENSRNOG00000050743</td>\n      <td>100911796</td>\n      <td>ADORA3</td>\n      <td>ADORA3</td>\n      <td>25370</td>\n      <td>ENSRNOG00000050743</td>\n    </tr>\n    <tr>\n      <th>28</th>\n      <td>ENSCHIG00000019431</td>\n      <td>108636726</td>\n      <td></td>\n      <td>ADSS</td>\n      <td>102172742</td>\n      <td>ENSCHIG00000019431</td>\n    </tr>\n    <tr>\n      <th>29</th>\n      <td>ENSRNOG00000052572</td>\n      <td>103690302</td>\n      <td>LOC103690302</td>\n      <td>AFF2</td>\n      <td>293922</td>\n      <td>ENSRNOG00000052572</td>\n    </tr>\n    <tr>\n      <th>...</th>\n      <td>...</td>\n      <td>...</td>\n      <td>...</td>\n      <td>...</td>\n      <td>...</td>\n      <td>...</td>\n    </tr>\n    <tr>\n      <th>24886</th>\n      <td>ENSCPOG00000029984</td>\n      <td>101787246</td>\n      <td></td>\n      <td>ZNF502</td>\n      <td>111753255</td>\n      <td>ENSCPOG00000029984</td>\n    </tr>\n    <tr>\n      <th>24887</th>\n      <td>ENSMNEG00000038295</td>\n      <td>105488073</td>\n      <td></td>\n      <td>ZNF552</td>\n      <td>105488071</td>\n      <td>ENSMNEG00000038295</td>\n    </tr>\n    <tr>\n      <th>24888</th>\n      <td>ENSCAFG00000006524</td>\n      <td>484559</td>\n      <td>ZNF382</td>\n      <td>ZNF567</td>\n      <td>102152269</td>\n      <td>ENSCAFG00000006524</td>\n    </tr>\n    <tr>\n      <th>24889</th>\n      <td>ENSCATG00000033174</td>\n      <td>105595007</td>\n      <td>ZNF568</td>\n      <td>ZNF568</td>\n      <td>105595103</td>\n      <td>ENSCATG00000033174</td>\n    </tr>\n    <tr>\n      <th>24890</th>\n      <td>ENSCCAG00000026905</td>\n      <td>108288499</td>\n      <td></td>\n      <td>ZNF57</td>\n      <td>108288498</td>\n      <td>ENSCCAG00000026905</td>\n    </tr>\n    <tr>\n      <th>24891</th>\n      <td>ENSCJAG00000013471</td>\n      <td>103789932</td>\n      <td>ZNF570</td>\n      <td>ZNF585A</td>\n      <td>100403405</td>\n      <td>ENSCJAG00000013471</td>\n    </tr>\n    <tr>\n      <th>24892</th>\n      <td>ENSCJAG00000013471</td>\n      <td>103789932</td>\n      <td>ZNF570</td>\n      <td>ZNF585B</td>\n      <td>100385684</td>\n      <td>ENSCJAG00000013471</td>\n    </tr>\n    <tr>\n      <th>24893</th>\n      <td>ENSMNEG00000043779</td>\n      <td>105488070</td>\n      <td>ZNF586</td>\n      <td>ZNF586</td>\n      <td>112422918</td>\n      <td>ENSMNEG00000043779</td>\n    </tr>\n    <tr>\n      <th>24894</th>\n      <td>ENSNLEG00000005984</td>\n      <td>100603100</td>\n      <td>ZNF432</td>\n      <td>ZNF614</td>\n      <td>100602426</td>\n      <td>ENSNLEG00000005984</td>\n    </tr>\n    <tr>\n      <th>24895</th>\n      <td>ENSPPYG00000010331</td>\n      <td>100173331</td>\n      <td>ZNF615</td>\n      <td>ZNF615</td>\n      <td>100189844</td>\n      <td>ENSPPYG00000010331</td>\n    </tr>\n    <tr>\n      <th>24896</th>\n      <td>ENSCJAG00000002045</td>\n      <td>103790042</td>\n      <td>ZNF615</td>\n      <td>ZNF615</td>\n      <td>100386521</td>\n      <td>ENSCJAG00000002045</td>\n    </tr>\n    <tr>\n      <th>24897</th>\n      <td>ENSODEG00000011702</td>\n      <td>101590357</td>\n      <td>ZNF655</td>\n      <td>ZNF655</td>\n      <td>105741992</td>\n      <td>ENSODEG00000011702</td>\n    </tr>\n    <tr>\n      <th>24898</th>\n      <td>ENSGALG00000041845</td>\n      <td>107054696</td>\n      <td>ZNF692</td>\n      <td>ZNF692</td>\n      <td>427095</td>\n      <td>ENSGALG00000041845</td>\n    </tr>\n    <tr>\n      <th>24899</th>\n      <td>ENSECAG00000012161</td>\n      <td>111771819</td>\n      <td>ZNF711</td>\n      <td>ZNF711</td>\n      <td>100071705</td>\n      <td>ENSECAG00000012161</td>\n    </tr>\n    <tr>\n      <th>24900</th>\n      <td>ENSECAG00000012161</td>\n      <td>111772177</td>\n      <td>ZNF711</td>\n      <td>ZNF711</td>\n      <td>100071705</td>\n      <td>ENSECAG00000012161</td>\n    </tr>\n    <tr>\n      <th>24901</th>\n      <td>ENSECAG00000012161</td>\n      <td>111772307</td>\n      <td>ZNF711</td>\n      <td>ZNF711</td>\n      <td>100071705</td>\n      <td>ENSECAG00000012161</td>\n    </tr>\n    <tr>\n      <th>24902</th>\n      <td>ENSMICG00000005033</td>\n      <td>105885424</td>\n      <td></td>\n      <td>ZNF711</td>\n      <td>105885277</td>\n      <td>ENSMICG00000005033</td>\n    </tr>\n    <tr>\n      <th>24903</th>\n      <td>ENSBTAG00000047954</td>\n      <td>107131241</td>\n      <td>ZNF75D</td>\n      <td>ZNF75D</td>\n      <td>100125581</td>\n      <td>ENSBTAG00000047954</td>\n    </tr>\n    <tr>\n      <th>24904</th>\n      <td>ENSG00000160336</td>\n      <td>110116772</td>\n      <td>ZNF761</td>\n      <td>ZNF761</td>\n      <td>388561</td>\n      <td>ENSG00000160336</td>\n    </tr>\n    <tr>\n      <th>24905</th>\n      <td>ENSCATG00000035462</td>\n      <td>105599155</td>\n      <td>ZNF689</td>\n      <td>ZNF764</td>\n      <td>105599185</td>\n      <td>ENSCATG00000035462</td>\n    </tr>\n    <tr>\n      <th>24906</th>\n      <td>ENSPPAG00000040069</td>\n      <td>100974405</td>\n      <td>ZNF782</td>\n      <td>ZNF782</td>\n      <td>112436693</td>\n      <td>ENSPPAG00000040069</td>\n    </tr>\n    <tr>\n      <th>24907</th>\n      <td>ENSCAFG00000004378</td>\n      <td>100686024</td>\n      <td>ZNF786</td>\n      <td>ZNF786</td>\n      <td>106557477</td>\n      <td>ENSCAFG00000004378</td>\n    </tr>\n    <tr>\n      <th>24908</th>\n      <td>ENSCAFG00000030977</td>\n      <td>102153308</td>\n      <td>ZNF789</td>\n      <td>ZNF789</td>\n      <td>111089967</td>\n      <td>ENSCAFG00000030977</td>\n    </tr>\n    <tr>\n      <th>24909</th>\n      <td>ENSCJAG00000002058</td>\n      <td>103790045</td>\n      <td>ZNF836</td>\n      <td>ZNF841</td>\n      <td>100386167</td>\n      <td>ENSCJAG00000002058</td>\n    </tr>\n    <tr>\n      <th>24910</th>\n      <td>ENSMNEG00000037790</td>\n      <td>105495440</td>\n      <td>HKR1</td>\n      <td>ZNF875</td>\n      <td>112422910</td>\n      <td>ENSMNEG00000037790</td>\n    </tr>\n    <tr>\n      <th>24911</th>\n      <td>ENSPTRG00000041125</td>\n      <td>112206438</td>\n      <td>ZNF878</td>\n      <td>ZNF878</td>\n      <td>100615155</td>\n      <td>ENSPTRG00000041125</td>\n    </tr>\n    <tr>\n      <th>24912</th>\n      <td>ENSRROG00000033230</td>\n      <td>104658434</td>\n      <td>ZNHIT3</td>\n      <td>ZNHIT3</td>\n      <td>104672999</td>\n      <td>ENSRROG00000033230</td>\n    </tr>\n    <tr>\n      <th>24913</th>\n      <td>ENSMLEG00000041589</td>\n      <td>105533104</td>\n      <td>ZNHIT3</td>\n      <td>ZNHIT3</td>\n      <td>105546903</td>\n      <td>ENSMLEG00000041589</td>\n    </tr>\n    <tr>\n      <th>24914</th>\n      <td>ENSMFAG00000039674</td>\n      <td>102130372</td>\n      <td>ZRSR2</td>\n      <td>ZRSR2</td>\n      <td>102132518</td>\n      <td>ENSMFAG00000039674</td>\n    </tr>\n    <tr>\n      <th>24915</th>\n      <td>ENSPPAG00000036815</td>\n      <td>103783484</td>\n      <td>ZSCAN12</td>\n      <td>ZSCAN23</td>\n      <td>100986302</td>\n      <td>ENSPPAG00000036815</td>\n    </tr>\n  </tbody>\n</table>\n<p>24916 rows × 6 columns</p>\n</div>"
    }
   },
   "source": [
    "In the following table, each row shares the Ensembl ID, one from Ensembl (most left), one from Entrez (most right). Based on mappings only found on Ensembl, it shows the different Entrez ID claimed by each side.\n",
    "Out of ``{{\"{:,}\".format(ensembl_mappings_only)}}`` unique Ensembl mappings, only ``{{\"{:,}\".format(unique_ambiguous_ensembl_mappings)}}`` can be ambiguously mapped to Entrez (same Ensembl ID, but different Entrez ID). There are thus ``{{\"{:,}\".format(ensembl_mappings_only-unique_ambiguous_ensembl_mappings)}}`` mappings claimed only by Ensembl.\n",
    "\n",
    "{{pd_ambiguous_ensembl}}"
   ]
  },
  {
   "cell_type": "markdown",
   "metadata": {
    "variables": {
     "\"{:,}\".format(len(pd_disambiguated_ensembl))": "4,355",
     "pd_disambiguated_ensembl": "<div>\n<style scoped>\n    .dataframe tbody tr th:only-of-type {\n        vertical-align: middle;\n    }\n\n    .dataframe tbody tr th {\n        vertical-align: top;\n    }\n\n    .dataframe thead th {\n        text-align: right;\n    }\n</style>\n<table border=\"1\" class=\"dataframe\">\n  <thead>\n    <tr style=\"text-align: right;\">\n      <th></th>\n      <th>ensembl_ensembl</th>\n      <th>ensembl_ncbi</th>\n      <th>ensembl_symbol</th>\n      <th>entrez_symbol</th>\n      <th>entrez_ncbi</th>\n      <th>entrez_ensembl</th>\n    </tr>\n  </thead>\n  <tbody>\n    <tr>\n      <th>0</th>\n      <td>ENSMUSG00000090440</td>\n      <td>666214</td>\n      <td>1700049E17RIK2</td>\n      <td>1700049E17RIK2</td>\n      <td>100041722</td>\n      <td>ENSMUSG00000090440</td>\n    </tr>\n    <tr>\n      <th>1</th>\n      <td>ENSMUSG00000094577</td>\n      <td>635580</td>\n      <td>4921511M17RIK</td>\n      <td>4921511M17RIK</td>\n      <td>667256</td>\n      <td>ENSMUSG00000094577</td>\n    </tr>\n    <tr>\n      <th>2</th>\n      <td>ENSMUSG00000094577</td>\n      <td>100040020</td>\n      <td>4921511M17RIK</td>\n      <td>4921511M17RIK</td>\n      <td>667256</td>\n      <td>ENSMUSG00000094577</td>\n    </tr>\n    <tr>\n      <th>3</th>\n      <td>ENSCAFG00000006931</td>\n      <td>100688197</td>\n      <td>AACS</td>\n      <td>AACS</td>\n      <td>486240</td>\n      <td>ENSCAFG00000006931</td>\n    </tr>\n    <tr>\n      <th>4</th>\n      <td>ENSECAG00000036801</td>\n      <td>111767402</td>\n      <td>ABCC9</td>\n      <td>ABCC9</td>\n      <td>100064351</td>\n      <td>ENSECAG00000036801</td>\n    </tr>\n    <tr>\n      <th>5</th>\n      <td>ENSRNOG00000047356</td>\n      <td>100909750</td>\n      <td>ABL1</td>\n      <td>ABL1</td>\n      <td>311860</td>\n      <td>ENSRNOG00000047356</td>\n    </tr>\n    <tr>\n      <th>6</th>\n      <td>ENSPTRG00000007846</td>\n      <td>453974</td>\n      <td>ACSM2B</td>\n      <td>ACSM2B</td>\n      <td>467918</td>\n      <td>ENSPTRG00000007846</td>\n    </tr>\n    <tr>\n      <th>7</th>\n      <td>ENSDARG00000038475</td>\n      <td>103909643</td>\n      <td>ACY1</td>\n      <td>ACY1</td>\n      <td>393970</td>\n      <td>ENSDARG00000038475</td>\n    </tr>\n    <tr>\n      <th>8</th>\n      <td>ENSMUSG00000079058</td>\n      <td>384814</td>\n      <td>ADAM34</td>\n      <td>ADAM34</td>\n      <td>252866</td>\n      <td>ENSMUSG00000079058</td>\n    </tr>\n    <tr>\n      <th>9</th>\n      <td>ENSCJAG00000011845</td>\n      <td>100411264</td>\n      <td>ADGRF4</td>\n      <td>ADGRF4</td>\n      <td>100386983</td>\n      <td>ENSCJAG00000011845</td>\n    </tr>\n    <tr>\n      <th>10</th>\n      <td>ENSNLEG00000027230</td>\n      <td>100589790</td>\n      <td>ADH1B</td>\n      <td>ADH1B</td>\n      <td>100590471</td>\n      <td>ENSNLEG00000027230</td>\n    </tr>\n    <tr>\n      <th>11</th>\n      <td>ENSMNEG00000033055</td>\n      <td>105486378</td>\n      <td>ADH7</td>\n      <td>ADH7</td>\n      <td>105486373</td>\n      <td>ENSMNEG00000033055</td>\n    </tr>\n    <tr>\n      <th>12</th>\n      <td>ENSMODG00000014484</td>\n      <td>103096762</td>\n      <td>ADI1</td>\n      <td>ADI1</td>\n      <td>100032300</td>\n      <td>ENSMODG00000014484</td>\n    </tr>\n    <tr>\n      <th>13</th>\n      <td>ENSRNOG00000050625</td>\n      <td>100911217</td>\n      <td>ADIG</td>\n      <td>ADIG</td>\n      <td>100361007</td>\n      <td>ENSRNOG00000050625</td>\n    </tr>\n    <tr>\n      <th>14</th>\n      <td>ENSCAFG00000013045</td>\n      <td>610687</td>\n      <td>ADO</td>\n      <td>ADO</td>\n      <td>489003</td>\n      <td>ENSCAFG00000013045</td>\n    </tr>\n    <tr>\n      <th>15</th>\n      <td>ENSRNOG00000050743</td>\n      <td>100911796</td>\n      <td>ADORA3</td>\n      <td>ADORA3</td>\n      <td>25370</td>\n      <td>ENSRNOG00000050743</td>\n    </tr>\n    <tr>\n      <th>16</th>\n      <td>ENSPREG00000001470</td>\n      <td>103460489</td>\n      <td>AFG3L2</td>\n      <td>AFG3L2</td>\n      <td>103460490</td>\n      <td>ENSPREG00000001470</td>\n    </tr>\n    <tr>\n      <th>17</th>\n      <td>ENSMOCG00000006732</td>\n      <td>106143714</td>\n      <td>AGAP3</td>\n      <td>AGAP3</td>\n      <td>102001693</td>\n      <td>ENSMOCG00000006732</td>\n    </tr>\n    <tr>\n      <th>18</th>\n      <td>ENSPPYG00000001579</td>\n      <td>100189856</td>\n      <td>AK2</td>\n      <td>AK2</td>\n      <td>100171703</td>\n      <td>ENSPPYG00000001579</td>\n    </tr>\n    <tr>\n      <th>19</th>\n      <td>ENSOARG00000005659</td>\n      <td>101119251</td>\n      <td>AK6</td>\n      <td>AK6</td>\n      <td>102238525</td>\n      <td>ENSOARG00000005659</td>\n    </tr>\n    <tr>\n      <th>20</th>\n      <td>ENSCLAG00000017594</td>\n      <td>102019365</td>\n      <td>AKAP5</td>\n      <td>AKAP5</td>\n      <td>102029603</td>\n      <td>ENSCLAG00000017594</td>\n    </tr>\n    <tr>\n      <th>21</th>\n      <td>ENSPCOG00000028364</td>\n      <td>105805574</td>\n      <td>AKIRIN1</td>\n      <td>AKIRIN1</td>\n      <td>105812319</td>\n      <td>ENSPCOG00000028364</td>\n    </tr>\n    <tr>\n      <th>22</th>\n      <td>ENSGALG00000003466</td>\n      <td>772271</td>\n      <td>AKR1B1L</td>\n      <td>AKR1B1L</td>\n      <td>425137</td>\n      <td>ENSGALG00000003466</td>\n    </tr>\n    <tr>\n      <th>23</th>\n      <td>ENSMMUG00000023282</td>\n      <td>722483</td>\n      <td>AKR1C1</td>\n      <td>AKR1C1</td>\n      <td>711198</td>\n      <td>ENSMMUG00000023282</td>\n    </tr>\n    <tr>\n      <th>24</th>\n      <td>ENSRROG00000007711</td>\n      <td>104673058</td>\n      <td>AKT1</td>\n      <td>AKT1</td>\n      <td>104673041</td>\n      <td>ENSRROG00000007711</td>\n    </tr>\n    <tr>\n      <th>25</th>\n      <td>ENSMNEG00000037647</td>\n      <td>105493400</td>\n      <td>ALDH2</td>\n      <td>ALDH2</td>\n      <td>112422914</td>\n      <td>ENSMNEG00000037647</td>\n    </tr>\n    <tr>\n      <th>26</th>\n      <td>ENSNLEG00000016657</td>\n      <td>100591198</td>\n      <td>ALG10</td>\n      <td>ALG10</td>\n      <td>100581890</td>\n      <td>ENSNLEG00000016657</td>\n    </tr>\n    <tr>\n      <th>27</th>\n      <td>ENSMLEG00000040943</td>\n      <td>105545728</td>\n      <td>ALG11</td>\n      <td>ALG11</td>\n      <td>105545727</td>\n      <td>ENSMLEG00000040943</td>\n    </tr>\n    <tr>\n      <th>28</th>\n      <td>ENSNLEG00000003982</td>\n      <td>100604344</td>\n      <td>ALG11</td>\n      <td>ALG11</td>\n      <td>101177074</td>\n      <td>ENSNLEG00000003982</td>\n    </tr>\n    <tr>\n      <th>29</th>\n      <td>ENSPTRG00000016779</td>\n      <td>461954</td>\n      <td>AMACR</td>\n      <td>AMACR</td>\n      <td>461953</td>\n      <td>ENSPTRG00000016779</td>\n    </tr>\n    <tr>\n      <th>...</th>\n      <td>...</td>\n      <td>...</td>\n      <td>...</td>\n      <td>...</td>\n      <td>...</td>\n      <td>...</td>\n    </tr>\n    <tr>\n      <th>4325</th>\n      <td>ENSG00000186448</td>\n      <td>110354863</td>\n      <td>ZNF197</td>\n      <td>ZNF197</td>\n      <td>10168</td>\n      <td>ENSG00000186448</td>\n    </tr>\n    <tr>\n      <th>4326</th>\n      <td>ENSPTRG00000011105</td>\n      <td>743641</td>\n      <td>ZNF224</td>\n      <td>ZNF224</td>\n      <td>100610569</td>\n      <td>ENSPTRG00000011105</td>\n    </tr>\n    <tr>\n      <th>4327</th>\n      <td>ENSODEG00000018328</td>\n      <td>101579480</td>\n      <td>ZNF24</td>\n      <td>ZNF24</td>\n      <td>111811971</td>\n      <td>ENSODEG00000018328</td>\n    </tr>\n    <tr>\n      <th>4328</th>\n      <td>ENSMMUG00000017973</td>\n      <td>100428553</td>\n      <td>ZNF263</td>\n      <td>ZNF263</td>\n      <td>702166</td>\n      <td>ENSMMUG00000017973</td>\n    </tr>\n    <tr>\n      <th>4329</th>\n      <td>ENSPPYG00000009520</td>\n      <td>100173419</td>\n      <td>ZNF317</td>\n      <td>ZNF317</td>\n      <td>100189657</td>\n      <td>ENSPPYG00000009520</td>\n    </tr>\n    <tr>\n      <th>4330</th>\n      <td>ENSNLEG00000008714</td>\n      <td>100596514</td>\n      <td>ZNF33A</td>\n      <td>ZNF33A</td>\n      <td>100599548</td>\n      <td>ENSNLEG00000008714</td>\n    </tr>\n    <tr>\n      <th>4331</th>\n      <td>ENSCPOG00000010619</td>\n      <td>101787246</td>\n      <td>ZNF35</td>\n      <td>ZNF35</td>\n      <td>111753254</td>\n      <td>ENSCPOG00000010619</td>\n    </tr>\n    <tr>\n      <th>4332</th>\n      <td>ENSMNEG00000034678</td>\n      <td>105484011</td>\n      <td>ZNF354C</td>\n      <td>ZNF354C</td>\n      <td>112422925</td>\n      <td>ENSMNEG00000034678</td>\n    </tr>\n    <tr>\n      <th>4333</th>\n      <td>ENSCAFG00000006524</td>\n      <td>484559</td>\n      <td>ZNF382</td>\n      <td>ZNF382</td>\n      <td>106557469</td>\n      <td>ENSCAFG00000006524</td>\n    </tr>\n    <tr>\n      <th>4334</th>\n      <td>ENSBTAG00000051500</td>\n      <td>511794</td>\n      <td>ZNF389</td>\n      <td>ZNF389</td>\n      <td>100270749</td>\n      <td>ENSBTAG00000051500</td>\n    </tr>\n    <tr>\n      <th>4335</th>\n      <td>ENSCJAG00000020308</td>\n      <td>100389329</td>\n      <td>ZNF410</td>\n      <td>ZNF410</td>\n      <td>100395713</td>\n      <td>ENSCJAG00000020308</td>\n    </tr>\n    <tr>\n      <th>4336</th>\n      <td>ENSPTRG00000043006</td>\n      <td>455894</td>\n      <td>ZNF43</td>\n      <td>ZNF43</td>\n      <td>738380</td>\n      <td>ENSPTRG00000043006</td>\n    </tr>\n    <tr>\n      <th>4337</th>\n      <td>ENSCATG00000033174</td>\n      <td>105595007</td>\n      <td>ZNF568</td>\n      <td>ZNF568</td>\n      <td>105595103</td>\n      <td>ENSCATG00000033174</td>\n    </tr>\n    <tr>\n      <th>4338</th>\n      <td>ENSMNEG00000043779</td>\n      <td>105488070</td>\n      <td>ZNF586</td>\n      <td>ZNF586</td>\n      <td>112422918</td>\n      <td>ENSMNEG00000043779</td>\n    </tr>\n    <tr>\n      <th>4339</th>\n      <td>ENSCJAG00000002045</td>\n      <td>103790042</td>\n      <td>ZNF615</td>\n      <td>ZNF615</td>\n      <td>100386521</td>\n      <td>ENSCJAG00000002045</td>\n    </tr>\n    <tr>\n      <th>4340</th>\n      <td>ENSPPYG00000010331</td>\n      <td>100173331</td>\n      <td>ZNF615</td>\n      <td>ZNF615</td>\n      <td>100189844</td>\n      <td>ENSPPYG00000010331</td>\n    </tr>\n    <tr>\n      <th>4341</th>\n      <td>ENSODEG00000011702</td>\n      <td>101590357</td>\n      <td>ZNF655</td>\n      <td>ZNF655</td>\n      <td>105741992</td>\n      <td>ENSODEG00000011702</td>\n    </tr>\n    <tr>\n      <th>4342</th>\n      <td>ENSGALG00000041845</td>\n      <td>107054696</td>\n      <td>ZNF692</td>\n      <td>ZNF692</td>\n      <td>427095</td>\n      <td>ENSGALG00000041845</td>\n    </tr>\n    <tr>\n      <th>4343</th>\n      <td>ENSECAG00000012161</td>\n      <td>111771819</td>\n      <td>ZNF711</td>\n      <td>ZNF711</td>\n      <td>100071705</td>\n      <td>ENSECAG00000012161</td>\n    </tr>\n    <tr>\n      <th>4344</th>\n      <td>ENSECAG00000012161</td>\n      <td>111772177</td>\n      <td>ZNF711</td>\n      <td>ZNF711</td>\n      <td>100071705</td>\n      <td>ENSECAG00000012161</td>\n    </tr>\n    <tr>\n      <th>4345</th>\n      <td>ENSECAG00000012161</td>\n      <td>111772307</td>\n      <td>ZNF711</td>\n      <td>ZNF711</td>\n      <td>100071705</td>\n      <td>ENSECAG00000012161</td>\n    </tr>\n    <tr>\n      <th>4346</th>\n      <td>ENSBTAG00000047954</td>\n      <td>107131241</td>\n      <td>ZNF75D</td>\n      <td>ZNF75D</td>\n      <td>100125581</td>\n      <td>ENSBTAG00000047954</td>\n    </tr>\n    <tr>\n      <th>4347</th>\n      <td>ENSG00000160336</td>\n      <td>110116772</td>\n      <td>ZNF761</td>\n      <td>ZNF761</td>\n      <td>388561</td>\n      <td>ENSG00000160336</td>\n    </tr>\n    <tr>\n      <th>4348</th>\n      <td>ENSPPAG00000040069</td>\n      <td>100974405</td>\n      <td>ZNF782</td>\n      <td>ZNF782</td>\n      <td>112436693</td>\n      <td>ENSPPAG00000040069</td>\n    </tr>\n    <tr>\n      <th>4349</th>\n      <td>ENSCAFG00000004378</td>\n      <td>100686024</td>\n      <td>ZNF786</td>\n      <td>ZNF786</td>\n      <td>106557477</td>\n      <td>ENSCAFG00000004378</td>\n    </tr>\n    <tr>\n      <th>4350</th>\n      <td>ENSCAFG00000030977</td>\n      <td>102153308</td>\n      <td>ZNF789</td>\n      <td>ZNF789</td>\n      <td>111089967</td>\n      <td>ENSCAFG00000030977</td>\n    </tr>\n    <tr>\n      <th>4351</th>\n      <td>ENSPTRG00000041125</td>\n      <td>112206438</td>\n      <td>ZNF878</td>\n      <td>ZNF878</td>\n      <td>100615155</td>\n      <td>ENSPTRG00000041125</td>\n    </tr>\n    <tr>\n      <th>4352</th>\n      <td>ENSMLEG00000041589</td>\n      <td>105533104</td>\n      <td>ZNHIT3</td>\n      <td>ZNHIT3</td>\n      <td>105546903</td>\n      <td>ENSMLEG00000041589</td>\n    </tr>\n    <tr>\n      <th>4353</th>\n      <td>ENSRROG00000033230</td>\n      <td>104658434</td>\n      <td>ZNHIT3</td>\n      <td>ZNHIT3</td>\n      <td>104672999</td>\n      <td>ENSRROG00000033230</td>\n    </tr>\n    <tr>\n      <th>4354</th>\n      <td>ENSMFAG00000039674</td>\n      <td>102130372</td>\n      <td>ZRSR2</td>\n      <td>ZRSR2</td>\n      <td>102132518</td>\n      <td>ENSMFAG00000039674</td>\n    </tr>\n  </tbody>\n</table>\n<p>4355 rows × 6 columns</p>\n</div>"
    }
   },
   "source": [
    "If we use symbol as a join criteria, we can disambiguate ``{{\"{:,}\".format(len(pd_disambiguated_ensembl))}}`` mappings. The Entrez mapping is the one kept in mygene (``entrez_ncbi -> entrez_ensembl`` right columns)\n",
    "{{pd_disambiguated_ensembl}}"
   ]
  },
  {
   "cell_type": "code",
   "execution_count": null,
   "metadata": {},
   "outputs": [],
   "source": []
  }
 ],
 "metadata": {
  "kernelspec": {
   "display_name": "Python 3",
   "language": "python",
   "name": "python3"
  },
  "language_info": {
   "codemirror_mode": {
    "name": "ipython",
    "version": 3
   },
   "file_extension": ".py",
   "mimetype": "text/x-python",
   "name": "python",
   "nbconvert_exporter": "python",
   "pygments_lexer": "ipython3",
   "version": "3.5.2"
  },
  "toc": {
   "base_numbering": 1,
   "nav_menu": {},
   "number_sections": true,
   "sideBar": false,
   "skip_h1_title": false,
   "title_cell": "Table of Contents",
   "title_sidebar": "Contents",
   "toc_cell": false,
   "toc_position": {
    "height": "100px",
    "left": "1125.39px",
    "top": "354px",
    "width": "210.344px"
   },
   "toc_section_display": true,
   "toc_window_display": true
  }
 },
 "nbformat": 4,
 "nbformat_minor": 2
}
